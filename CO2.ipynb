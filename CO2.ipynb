{
 "cells": [
  {
   "cell_type": "markdown",
   "id": "0bf91904-8c4c-41fb-9b6d-d9682bf9a9b5",
   "metadata": {},
   "source": [
    "# Post-processing the CO2 data, and estimating the true pCO2"
   ]
  },
  {
   "cell_type": "code",
   "execution_count": null,
   "id": "21ed2a50-a791-4cbf-9596-846bfbe69506",
   "metadata": {},
   "outputs": [],
   "source": [
    "from pandas import read_csv\n",
    "import matplotlib.pyplot as plt\n",
    "import numpy as np"
   ]
  },
  {
   "cell_type": "code",
   "execution_count": null,
   "id": "9905abce-b634-4036-b538-50148d6eb353",
   "metadata": {},
   "outputs": [],
   "source": [
    "# The Example CO2 data are in a csv file in the data folder. \n",
    "\n",
    "# There is one header row in the csv we need to skip => skiprows=1\n",
    "\n",
    "# The timestamps are in the second column. We want these as our\n",
    "# index, for index_col=1 (1 is the second column, 0 would be first).\n",
    "\n",
    "# We use parse_dates=True, because our index contains timestamps. \n",
    "\n",
    "df = read_csv('data/CO2-spot_Savoy.csv',\n",
    "              skiprows=1,\n",
    "              parse_dates=True,\n",
    "              index_col=1\n",
    "             )"
   ]
  },
  {
   "cell_type": "code",
   "execution_count": null,
   "id": "94acd81c-5410-43d1-a57e-9834591c6b14",
   "metadata": {},
   "outputs": [],
   "source": [
    "# Let's print it out to see how it looks.\n",
    "df"
   ]
  },
  {
   "cell_type": "code",
   "execution_count": null,
   "id": "e93ed34f-2c21-4b34-b5e6-4bfeab6c149f",
   "metadata": {},
   "outputs": [],
   "source": [
    "CO2 = df['ppm, units (LGR S/N: 20253808)'] #Let's just pull out CO2, and give it a sensible name.\n",
    "CO2.plot()\n",
    "plt.ylabel('pCO2 (ppm)')"
   ]
  },
  {
   "cell_type": "markdown",
   "id": "b6d5d214-de3c-4df9-824e-0ce350170b04",
   "metadata": {},
   "source": [
    "#### This is an example of CO2 data collected in the field. Each of the asymmetric peaks is an equilibration curve, during a period when the CO2 meter is submerged and equilibrating to the pCO2 in the water. Note that neither of these peaks has flattened out into a plateau, so we didn't leave it in long enough to get complete equilibration. "
   ]
  },
  {
   "cell_type": "markdown",
   "id": "0501659c-dc62-430a-a734-de540fdbe55d",
   "metadata": {},
   "source": [
    "#### We will zoom in on the first peak to try to approximate the equilibrium value"
   ]
  },
  {
   "cell_type": "code",
   "execution_count": null,
   "id": "e28114a6-dd4c-4aa3-a8d6-3a4fc1671722",
   "metadata": {},
   "outputs": [],
   "source": [
    "# Here we can use date time slicing, where we enter dates and times as strings\n",
    "start = '2023-05-02 12:20' # Beginning of slice\n",
    "end = '2023-05-02 12:57' #End of slice\n",
    "CO2[start:end].plot()\n",
    "plt.ylabel('pCO2 (ppm)')"
   ]
  },
  {
   "cell_type": "markdown",
   "id": "3c95ff71-7ea8-47c0-aa99-357208541864",
   "metadata": {},
   "source": [
    "#### These peaks are normally an exponential shape, a functional form that is also predicted by theory. Therefore, to estimate the equilibrium form, we will fit an exponential function to this measurement curve."
   ]
  },
  {
   "cell_type": "code",
   "execution_count": null,
   "id": "e421acb1-3389-459e-a09f-2dbdfc4468af",
   "metadata": {},
   "outputs": [],
   "source": [
    "# We can define a separate dataframe, CO2_meas that just has this one measurement peak in it\n",
    "CO2_meas = CO2[start:end]"
   ]
  },
  {
   "cell_type": "code",
   "execution_count": null,
   "id": "e7b8d6e6-be01-478d-a19d-5c60bafb55a6",
   "metadata": {},
   "outputs": [],
   "source": [
    "# To fit a curve, we want to calculate the seconds from the start of the measurement, \n",
    "# rather than time stamps, which are currently on the x axis.\n",
    "# We can calculate the time since start like this, by subtracting out the initial time.\n",
    "time_from_start = CO2_meas.index - CO2_meas.index[0] \n",
    "#Then, this can be converted into total seconds like this\n",
    "secs_from_start = time_from_start.total_seconds()"
   ]
  },
  {
   "cell_type": "code",
   "execution_count": null,
   "id": "8fa94c0f-c9e5-4941-94ec-0bf031399a65",
   "metadata": {},
   "outputs": [],
   "source": [
    "# Let's plot again with seconds to make sure we got this right.\n",
    "plt.plot(secs_from_start,CO2_meas)\n",
    "plt.xlabel('Seconds from start of measurement')\n",
    "plt.ylabel('CO2  (ppm)')"
   ]
  },
  {
   "cell_type": "markdown",
   "id": "d661f6df-4aab-457d-a56c-a979c5d8c507",
   "metadata": {},
   "source": [
    "#### Looks good!"
   ]
  },
  {
   "cell_type": "markdown",
   "id": "13f66d95-c993-48a4-a5ac-70c3580225d8",
   "metadata": {},
   "source": [
    "#### We will fit an exponential of the form \n",
    "\n",
    "$$\\Large{ y(t) = A\\left[1-e^{(-t/B)}\\right] + C },$$\n",
    "\n",
    "#### where $A$, $B$, and $C$ are fitting constants.\n",
    "#### At $t=0$ we have $y(0)=C$, as $t\\rightarrow \\infty$, the exponential approches zero and we get $y \\rightarrow A+C$. Therefore $A+C$ is our equilibrium value. This is what we were trying to measure in the field."
   ]
  },
  {
   "cell_type": "code",
   "execution_count": null,
   "id": "27789b5d-cb5d-4677-95f8-5d137dfe5cb1",
   "metadata": {},
   "outputs": [],
   "source": [
    "#Here we define our exponential curve for fitting\n",
    "def exp_curve(t, A, B, C):\n",
    "    y = A*(1 - np.exp(-t/B)) + C\n",
    "    return y"
   ]
  },
  {
   "cell_type": "code",
   "execution_count": null,
   "id": "d06a511b-d535-4849-a3a9-299b9bc2f208",
   "metadata": {},
   "outputs": [],
   "source": [
    "# import the curve fitting function\n",
    "from scipy.optimize import curve_fit"
   ]
  },
  {
   "cell_type": "markdown",
   "id": "4e765103-ef9c-45a2-9f99-1c5b4218d056",
   "metadata": {},
   "source": [
    "#### For curve_fit we provide an initial guess of A, B, and C. If we don't do this, it likely won't find the best solution. Remember, $C$ is what we get at time zero, which here looks about like 1000 ppm. We might plateau somewhere around 6000 ppm, so $A+C\\approx 6000$ ppm. Therefore, 5000 ppm seems like a good guess for A. $B$ is a timescale over which the solution changes by a factor of $e$, which is roughly three. Therefore, at $t=B$ the solution should be about 1/3 of the way between the starting point and plateau. 500 secs looks pretty good to me. This is the reasoning that leads to the guesses I use below."
   ]
  },
  {
   "cell_type": "code",
   "execution_count": null,
   "id": "0d368cea-e18e-4b64-a382-912ed8d4b0de",
   "metadata": {},
   "outputs": [],
   "source": [
    "p_guess = [6000,500,1000]\n",
    "p_opt, p_cov = curve_fit(exp_curve, secs_from_start, CO2_meas, p_guess) \n",
    "# The best fitting parameters are stored in p_opt, in the order in which they are called in the function above, A, B, C.\n",
    "A_best = p_opt[0]\n",
    "B_best = p_opt[1]\n",
    "C_best = p_opt[2]"
   ]
  },
  {
   "cell_type": "code",
   "execution_count": null,
   "id": "ace4832c-87fb-4259-a1ba-2efb4197927a",
   "metadata": {},
   "outputs": [],
   "source": [
    "# We can calculate the CO2 values from out best fitting exponential by using our defined function,\n",
    "# and the best-fitting parameters.\n",
    "co2_fit = exp_curve(secs_from_start, A_best, B_best, C_best)\n",
    "\n",
    "# Plot the data\n",
    "plt.plot(secs_from_start,CO2_meas)\n",
    "# Plot the exponenial curve as a dashed line.\n",
    "plt.plot(secs_from_start, co2_fit, '--')\n",
    "plt.xlabel('Seconds from start of measurement')\n",
    "plt.ylabel('CO2  (ppm)')\n",
    "plt.legend(['Data', 'Fit']);\n",
    "\n",
    "\n",
    "# To illustrate the problem with a poor guess (or no guess, try deleting\n",
    "# p_guess from the curve_fit function call above and rerun that cell, and \n",
    "# this one. What happens to the fit?"
   ]
  },
  {
   "cell_type": "code",
   "execution_count": null,
   "id": "0850c019-c6f9-40cd-beaa-ec0ffe521167",
   "metadata": {},
   "outputs": [],
   "source": [
    "print('A_best =',A_best)\n",
    "print('B_best =',B_best)\n",
    "print('C_best =',C_best)\n",
    "\n",
    "print('Final CO2 =', A_best + C_best)"
   ]
  },
  {
   "cell_type": "markdown",
   "id": "becde80a-a327-4569-92f2-5fbd324dc106",
   "metadata": {},
   "source": [
    "#### It's not perfect, but this gives us a way of estimating what the CO2 would have been if we had fully equilibrated the sensor. In this case, around 5200 ppm."
   ]
  },
  {
   "cell_type": "markdown",
   "id": "40f847e7-0d14-47c4-a7ac-1824b50d4339",
   "metadata": {},
   "source": [
    "#### Now that we have figured out how to do this fit, we can make it easier to do this with other data, if we define some functions that handle the repetitive parts. "
   ]
  },
  {
   "cell_type": "code",
   "execution_count": null,
   "id": "cf926a7e-0c60-400a-9beb-0953438b61fa",
   "metadata": {},
   "outputs": [],
   "source": [
    "# Note, for these functions I create what are called doc strings. These will show up as a\n",
    "# kind of automatic documentation when I try to use the function.\n",
    "\n",
    "from scipy.optimize import curve_fit\n",
    "\n",
    "def plot_CO2_measurement(start, end):\n",
    "    \"\"\"\n",
    "    Function to plot a CO2 measurement over specified time range\n",
    "    \n",
    "    Parameters\n",
    "    ----------\n",
    "    \n",
    "    start : string\n",
    "        String containing timestamp of start of measurement\n",
    "    \n",
    "    end : string\n",
    "        String containing timestamp of end of measurement\n",
    "        \n",
    "    Returns\n",
    "    -------\n",
    "    \n",
    "    CO2_meas : Series\n",
    "        Time series of CO2 with seconds from start as the index.\n",
    "    \n",
    "    \"\"\"\n",
    "    # We can define a separate dataframe that just has this one peak in it\n",
    "    CO2_meas = CO2[start:end]\n",
    "    # To fit a curve, we want to calculate the seconds from the start of the measurement, rather than time stamps\n",
    "    # We can calculate the time since start like this, by subtracting out the initial time.\n",
    "    time_from_start = CO2_meas.index - CO2_meas.index[0] \n",
    "    #Then, this can be converted into total seconds like this\n",
    "    secs_from_start = time_from_start.total_seconds()\n",
    "    #Let's reset the index to secs_from_start\n",
    "    CO2_meas.index = secs_from_start\n",
    "    # Let's plot again with seconds to make sure we got this right.\n",
    "    plt.plot(CO2_meas.index,CO2_meas)\n",
    "    plt.xlabel('Seconds from start of measurement')\n",
    "    plt.ylabel('CO2  (ppm)')\n",
    "    return CO2_meas # Return the modified data with CO2 and secs from start\n",
    "\n",
    "\n",
    "\n",
    "def fit_CO2_measurement(CO2_meas, A_guess, B_guess, C_guess):\n",
    "    \"\"\"\n",
    "    Function to fit and exponential curve to a CO2 measurement\n",
    "    \n",
    "    Parameters\n",
    "    ----------\n",
    "    \n",
    "    CO2_meas : Series\n",
    "        A Series object containing CO2 values and an index equal to seconds from the start.\n",
    "    \n",
    "    A_guess : float\n",
    "        Initial guess of A in exponential fit.\n",
    "        \n",
    "    B_guess : float\n",
    "        Initial guess of B in exponential fit.\n",
    "        \n",
    "    C_guess : float\n",
    "        Initial guess of C in exponential fit.\n",
    "        \n",
    "    Returns\n",
    "    -------\n",
    "    \n",
    "    CO2_final : float\n",
    "        Estimated equilibrium value of CO2.\n",
    "    \"\"\"\n",
    "    \n",
    "    #Here we define our exponential curve for fitting\n",
    "    def exp_curve(t, A,B,C):\n",
    "        y = A*(1 - np.exp(-t/B)) + C\n",
    "        return y\n",
    "\n",
    "    # Fit the exponential\n",
    "    p_guess = [A_guess,B_guess,C_guess]\n",
    "    p_opt, p_cov = curve_fit(exp_curve, CO2_meas.index, CO2_meas, p_guess) \n",
    "    \n",
    "    # The best fitting parameters are stored in p_opt, in the order in which they are called in the function above, A, B, C.\n",
    "    A_best = p_opt[0]\n",
    "    B_best = p_opt[1]\n",
    "    C_best = p_opt[2]\n",
    "    \n",
    "    co2_fit = exp_curve(CO2_meas.index, A_best, B_best, C_best)\n",
    "\n",
    "    # Plot the data\n",
    "    plt.plot(CO2_meas.index,CO2_meas)\n",
    "    # Plot the exponenial curve as a dashed line.\n",
    "    plt.plot(CO2_meas.index, co2_fit, '--')\n",
    "    plt.xlabel('Seconds from start of measurement')\n",
    "    plt.ylabel('CO2  (ppm)')\n",
    "    plt.legend(['Data', 'Fit']);\n",
    "    print(\"Estimated equilibrium CO2 value is\", A_best + C_best)\n",
    "    return (A_best + C_best)"
   ]
  },
  {
   "cell_type": "markdown",
   "id": "493732cf-3f25-4c1e-88ee-431ba4e218ed",
   "metadata": {},
   "source": [
    "#### Now we'll use our new function to grab the second big peak in the data."
   ]
  },
  {
   "cell_type": "code",
   "execution_count": null,
   "id": "d0e6e511-6744-4c54-9493-dd231ac064bd",
   "metadata": {},
   "outputs": [],
   "source": [
    "start = '2023-05-02 13:54' # Beginning of slice\n",
    "end = '2023-05-02 14:45' #End of slice\n",
    "\n",
    "CO2_meas = plot_CO2_measurement(start, end) \n",
    "# Try putting your cursor anywhere inside this () and hit shift-Tab. It should pop up our\n",
    "# docstrings from above. \n"
   ]
  },
  {
   "cell_type": "code",
   "execution_count": null,
   "id": "cb46aeb0-d401-4f5d-b830-4439c3664982",
   "metadata": {},
   "outputs": [],
   "source": [
    "# By visual examination of this curve, we'll guess A=1000, C=10000, B=500\n",
    "\n",
    "CO2_est = fit_CO2_measurement(CO2_meas, 10000, 500, 1000)"
   ]
  },
  {
   "cell_type": "markdown",
   "id": "436756a9-c6f7-4bba-beb7-18cc8c2a81e8",
   "metadata": {},
   "source": [
    "## Boom! \n",
    "#### Doesn't that look nice. \n",
    "\n",
    "#### Now use these functions to estimate measurement values from your field observations."
   ]
  },
  {
   "cell_type": "code",
   "execution_count": null,
   "id": "e6d111c7-b2fe-46d3-9a42-ea28ea7204ba",
   "metadata": {},
   "outputs": [],
   "source": [
    "# First, read in the raw data using read_csv\n",
    "\n",
    "# Plot the whole time series\n",
    "\n"
   ]
  },
  {
   "cell_type": "code",
   "execution_count": null,
   "id": "f5d06796-7586-4ba7-ba36-64edbfe689d6",
   "metadata": {},
   "outputs": [],
   "source": [
    "# Now use plot_CO2_measurement to zoom in on a specific measurement peak. \n"
   ]
  },
  {
   "cell_type": "code",
   "execution_count": null,
   "id": "753ae1f8-ba79-4814-9ea5-59bc26299d3b",
   "metadata": {},
   "outputs": [],
   "source": [
    "# Now fit the function using CO2_meas returned from the function above and your own guesses of A, B, and C.\n",
    "\n"
   ]
  }
 ],
 "metadata": {
  "kernelspec": {
   "display_name": "Python 3 (ipykernel)",
   "language": "python",
   "name": "python3"
  },
  "language_info": {
   "codemirror_mode": {
    "name": "ipython",
    "version": 3
   },
   "file_extension": ".py",
   "mimetype": "text/x-python",
   "name": "python",
   "nbconvert_exporter": "python",
   "pygments_lexer": "ipython3",
   "version": "3.9.13"
  }
 },
 "nbformat": 4,
 "nbformat_minor": 5
}
