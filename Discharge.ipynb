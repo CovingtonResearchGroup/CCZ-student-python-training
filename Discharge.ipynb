{
 "cells": [
  {
   "cell_type": "markdown",
   "metadata": {
    "id": "Rf3IMcBs5guT"
   },
   "source": [
    "## Discharge\n",
    "\n",
    "#### You will be using the following example code to answer the objectives: \n",
    "\n",
    "1. How much water flows into the sink versus discharges at Copperhead and Langle?  \n",
    "\n",
    "  a. Where does the water get stored (if less)? Where does it come from (if more)?  \n",
    "\n",
    "  b. How much uncertainty in the measurements? Compare methods and repeat measurements. \n",
    "\n",
    "  c. How do our measurements compare to the broader context of discharge records at Langle and Copperhead?  "
   ]
  },
  {
   "cell_type": "code",
   "execution_count": null,
   "metadata": {
    "id": "fvzQWEwx4XwB"
   },
   "outputs": [],
   "source": [
    "#import important packages\n",
    "import numpy as np\n",
    "from pandas import read_csv\n",
    "import matplotlib.pyplot as plt"
   ]
  },
  {
   "cell_type": "markdown",
   "metadata": {
    "id": "3A2n7N5sAMm5"
   },
   "source": [
    "### Understanding Discharge with Weirs\n",
    "\n",
    "We can calculate discharge with weirs by using the angle of the v-notch weir with the head of water using the following equation: \n",
    "\n",
    "$Q = 4.28*C*tan(\\frac{\\theta}{2})*(h+k)^{(\\frac{5}{2})}$"
   ]
  },
  {
   "cell_type": "code",
   "execution_count": null,
   "metadata": {
    "id": "JZADg3aQ5d4k"
   },
   "outputs": [],
   "source": [
    "#create the weir function\n",
    "def weir_discharge(head, notch_angle): #notch angle in degrees, head in ft\n",
    "    \"\"\"\n",
    "    Function to calculate discharge from weir measurements\n",
    "    \n",
    "    Parameters\n",
    "    ----------\n",
    "    \n",
    "    head : float\n",
    "        Float containing the head or height of the water in a weir in feet\n",
    "    \n",
    "    notch_angle : float\n",
    "        Float containing the angle of the weir in degrees\n",
    "        \n",
    "    Returns\n",
    "    -------\n",
    "    \n",
    "    Q (Discharge) : Float\n",
    "        Float containing discharge from the weir measurements in cfs\n",
    "\n",
    "    \"\"\"\n",
    "    notch_angle = np.deg2rad(notch_angle)\n",
    "    C = (0.607165052 - (0.000874466963*notch_angle)  +  ((6.10393334*(10**-6))*notch_angle**2)) #discharge coefficient\n",
    "    k = 0.0144902648 - 0.00033955535*notch_angle  + 3.29819003*(10**-6)*notch_angle**2  - 1.06215442*(10**-8) *notch_angle**3 #Head Correction Factor\n",
    "    Q = 4.28 * C * (np.tan(notch_angle/2)) * ((head+ k)**(5/2))\n",
    "    return Q #this will be in units of cfs!\n"
   ]
  },
  {
   "cell_type": "code",
   "execution_count": null,
   "metadata": {
    "id": "96jh9pcBAFON"
   },
   "outputs": [],
   "source": [
    "#If you would rather have your discharge in L/s rather than cfs, use this function below to convert! \n",
    "def liter_conversion(Q_cfs):\n",
    "    \"\"\"\n",
    "      Function to convert discharge from cfs to L/s\n",
    "    \n",
    "    Parameters\n",
    "    ----------\n",
    "    \n",
    "    Discharge in cfs : float\n",
    "        Float containing discharge value in cfs\n",
    "        \n",
    "    Returns\n",
    "    -------\n",
    "    \n",
    "    Q (Discharge) : Float\n",
    "        Float containing converted discharge in L/s\n",
    "\n",
    "    \"\"\"\n",
    "    Q_Ls = Q_cfs*28.31685 #L/s\n",
    "    return Q_Ls"
   ]
  },
  {
   "cell_type": "markdown",
   "metadata": {
    "id": "qCwXJ-FCOlOd"
   },
   "source": [
    "Let's test our functions below using some example data! "
   ]
  },
  {
   "cell_type": "code",
   "execution_count": null,
   "metadata": {
    "colab": {
     "base_uri": "https://localhost:8080/"
    },
    "id": "SBGZjk_37kXd",
    "outputId": "3280e41c-d8af-444d-e947-f26f92b79934"
   },
   "outputs": [],
   "source": [
    "#Now use your function by inputting your values! \n",
    "discharge_cfs = weir_discharge(1, 90)\n",
    "print(discharge_cfs, 'cfs') "
   ]
  },
  {
   "cell_type": "code",
   "execution_count": null,
   "metadata": {
    "colab": {
     "base_uri": "https://localhost:8080/"
    },
    "id": "sCqqh2GmAsHY",
    "outputId": "9f1e98e6-7b83-4c65-b485-5176d471ee7f"
   },
   "outputs": [],
   "source": [
    "#Or convert this value to L/s\n",
    "dischargeL = liter_conversion(discharge_cfs)\n",
    "print(dischargeL, 'L/s')"
   ]
  },
  {
   "cell_type": "code",
   "execution_count": null,
   "metadata": {},
   "outputs": [],
   "source": [
    "# Now calculate discharge for the field measurements using weirs\n",
    "\n"
   ]
  },
  {
   "cell_type": "code",
   "execution_count": null,
   "metadata": {},
   "outputs": [],
   "source": []
  },
  {
   "cell_type": "code",
   "execution_count": null,
   "metadata": {},
   "outputs": [],
   "source": []
  },
  {
   "cell_type": "markdown",
   "metadata": {
    "id": "dawM9efHAKO_"
   },
   "source": [
    "### Tracers"
   ]
  },
  {
   "cell_type": "markdown",
   "metadata": {
    "id": "3r0s1YC0sgqA"
   },
   "source": [
    "When we work with tracers, it's important to calibrate our sensors. Check out the data below to see what that looks like!"
   ]
  },
  {
   "cell_type": "code",
   "execution_count": null,
   "metadata": {
    "id": "hpCDHdOoKGcB"
   },
   "outputs": [],
   "source": [
    "#Read calibration data\n",
    "\n",
    "df_cal = read_csv('data/Example-calibration.csv', \n",
    "                index_col=1, \n",
    "                parse_dates=True, \n",
    "                skiprows=2,                 \n",
    "                names=['#', 'SpC', 'Temp']\n",
    "                )"
   ]
  },
  {
   "cell_type": "code",
   "execution_count": null,
   "metadata": {
    "colab": {
     "base_uri": "https://localhost:8080/",
     "height": 424
    },
    "id": "4k-HklNMKLE5",
    "outputId": "a4622286-e870-4ae1-e77a-fb3b9444fabc"
   },
   "outputs": [],
   "source": [
    "#Let's look at the data itself\n",
    "df_cal['5-12-2023 20:27:35':]"
   ]
  },
  {
   "cell_type": "markdown",
   "metadata": {
    "id": "ATxyGv1xuXFH"
   },
   "source": [
    "This plot below will show what it looks like when we calibrate our data to known concentrations."
   ]
  },
  {
   "cell_type": "code",
   "execution_count": null,
   "metadata": {
    "colab": {
     "base_uri": "https://localhost:8080/",
     "height": 486
    },
    "id": "0H1WvqXLKVh5",
    "outputId": "14e35017-be34-40b1-9093-17e2f23b8d90"
   },
   "outputs": [],
   "source": [
    "df_cal.SpC.plot()\n",
    "plt.xlabel('Time')\n",
    "plt.ylabel('SpC (uS/cm)')\n",
    "plt.title('Calibration')"
   ]
  },
  {
   "cell_type": "markdown",
   "metadata": {},
   "source": [
    "Each plateau is a calibration solution, with known concentration of salt, from left to right, they are DI water (0 mg/L), 400 mg/L and 1000 mg/L."
   ]
  },
  {
   "cell_type": "code",
   "execution_count": null,
   "metadata": {
    "colab": {
     "base_uri": "https://localhost:8080/",
     "height": 489
    },
    "id": "uyxsIz_0tbOC",
    "outputId": "f3d99506-c919-4c6e-c54a-08f14103db51"
   },
   "outputs": [],
   "source": [
    "#Now we are going to look at our calibration curve which known points from the data above\n",
    "cond = np.array([12, 765, 1997]) #Conductivities with known concentrations! \n",
    "C_salt = np.array([0, 400, 1000]) #known concentrations of salt in mg! \n",
    "\n",
    "from scipy.stats import linregress\n",
    "slope, intercept, rvalue, pvalue, stderr = linregress(cond, C_salt)\n",
    "\n",
    "plt.plot(cond, C_salt, 'o')\n",
    "x = np.linspace(0,2000,20)\n",
    "y = slope * x + intercept\n",
    "plt.plot(x,y)\n",
    "plt.xlabel('Conductivity')\n",
    "plt.ylabel('Known concentrations of salt')\n",
    "plt.title('Best Fit for Salt Calibration')\n",
    "\n",
    "print('Slope =',slope)"
   ]
  },
  {
   "cell_type": "code",
   "execution_count": null,
   "metadata": {
    "colab": {
     "base_uri": "https://localhost:8080/"
    },
    "id": "Z-iqmiQTttMw",
    "outputId": "f98c36f2-e1cf-4055-dfeb-719beb10bed4"
   },
   "outputs": [],
   "source": [
    "#To get our conversion factor, we need to calculate k which is the slope from above\n",
    "k = slope\n",
    "k"
   ]
  },
  {
   "cell_type": "markdown",
   "metadata": {
    "id": "lI7azqEv0iu_"
   },
   "source": [
    "Now that our sensor has been calibrated, we can use the SpC data to find discharge through a breakthrough curve! "
   ]
  },
  {
   "cell_type": "code",
   "execution_count": null,
   "metadata": {
    "colab": {
     "base_uri": "https://localhost:8080/",
     "height": 424
    },
    "id": "W04CtkRf-_EW",
    "outputId": "ccaa23f7-4945-4898-acb8-9d69071ff0eb"
   },
   "outputs": [],
   "source": [
    "#Read SpC breakthrough curve data:\n",
    "Salt_Discharge_df = read_csv('data/Example-Salt-Discharge.csv', \n",
    "                index_col=1, \n",
    "                parse_dates=True, \n",
    "                skiprows=2,                 \n",
    "              names=['#', 'SpC', 'Temp']\n",
    "                )\n",
    "Salt_Discharge_df"
   ]
  },
  {
   "cell_type": "code",
   "execution_count": null,
   "metadata": {
    "colab": {
     "base_uri": "https://localhost:8080/",
     "height": 486
    },
    "id": "jMdzGd8nAg2h",
    "outputId": "072bf39e-3574-4ebe-dfec-00e54b948a46"
   },
   "outputs": [],
   "source": [
    "#Let's plot this up to see what we are working with \n",
    "Salt_Discharge_df.SpC.plot()\n",
    "plt.xlabel('Time (sec)')\n",
    "plt.ylabel('SpC (uS/cm)')\n",
    "plt.title('SpC Time Series');"
   ]
  },
  {
   "cell_type": "markdown",
   "metadata": {
    "id": "HzFITstaAac1"
   },
   "source": [
    "We see that we have the entire time series of our data, but we only want our breakthrough curve, you should have the times where you started your measurement\n",
    "but you can also use the time series to decide where the breakthrough curve exists. Let's trim our data to just the breakthrough curve. "
   ]
  },
  {
   "cell_type": "code",
   "execution_count": null,
   "metadata": {
    "colab": {
     "base_uri": "https://localhost:8080/",
     "height": 489
    },
    "id": "K650-lW_Ao_H",
    "outputId": "4d81c158-a0de-4819-bdb2-8fb9689dba32"
   },
   "outputs": [],
   "source": [
    "#We can first do it visually by plotting\n",
    "Salt_Discharge_df.SpC['2023-05-11 13:44:30':'2023-05-11 14:30:00'].plot()\n",
    "plt.xlabel('Time (sec)')\n",
    "plt.ylabel('SpC (uS/cm)')\n",
    "plt.title('Breakthrough Curve');"
   ]
  },
  {
   "cell_type": "code",
   "execution_count": null,
   "metadata": {
    "colab": {
     "base_uri": "https://localhost:8080/",
     "height": 424
    },
    "id": "_xf4IoVEBReg",
    "outputId": "2deaa8a0-c47a-4574-e0e0-b50f4ebe186a"
   },
   "outputs": [],
   "source": [
    "#Now, we should make this data its own dataframe so we can do some math on it! \n",
    "Discharge_BT_Curve = Salt_Discharge_df['2023-05-11 13:44:30':'2023-05-11 14:30:00']\n",
    "Discharge_BT_Curve"
   ]
  },
  {
   "cell_type": "markdown",
   "metadata": {
    "id": "s27bEQcdCSZ8"
   },
   "source": [
    "Now we need to do a little math on our data to obtain discharge.\n",
    "\n",
    "First, correct the SpC so we can compare it to background levels.\n",
    "We see our SpC jump at around 13:48 so we need to find the mean SpC from before this time, so let's locate where this happens with .loc"
   ]
  },
  {
   "cell_type": "code",
   "execution_count": null,
   "metadata": {
    "colab": {
     "base_uri": "https://localhost:8080/"
    },
    "id": "mDgYgbR7FL27",
    "outputId": "1d436db8-1f0a-4aef-fbfe-8c0dc73371e1"
   },
   "outputs": [],
   "source": [
    "#Now that he have how many rows are collected before we start to see a jump in SpC, let's take the average value\n",
    "Pre_breakthrough_df = Discharge_BT_Curve[:'2023-05-11 13:48:00'] #choose only rows before our salt kicks in\n",
    "mean_background_SpC = Pre_breakthrough_df['SpC'].mean() #take the mean SpC of these values\n",
    "print(mean_background_SpC)"
   ]
  },
  {
   "cell_type": "code",
   "execution_count": null,
   "metadata": {
    "colab": {
     "base_uri": "https://localhost:8080/"
    },
    "id": "MfX_umxMBqRX",
    "outputId": "c3cca939-7f28-40a0-fe4c-107c4bcaf198"
   },
   "outputs": [],
   "source": [
    "#Now that we have our background levels, let's make a corrected SpC column in our dataframe \n",
    "SpC_corr = Discharge_BT_Curve['SpC'] - mean_background_SpC\n"
   ]
  },
  {
   "cell_type": "code",
   "execution_count": null,
   "metadata": {
    "colab": {
     "base_uri": "https://localhost:8080/"
    },
    "id": "-Lfogjd_ES8G",
    "outputId": "7bc79608-3e7f-40c1-d229-4e58785e9e90"
   },
   "outputs": [],
   "source": [
    "#Let's convert our new SpC to mg/L NaCl\n",
    "C_salt_pulse = SpC_corr * k #this is from our calibration above!  \n"
   ]
  },
  {
   "cell_type": "code",
   "execution_count": null,
   "metadata": {
    "id": "yQh2C_hoL3jn"
   },
   "outputs": [],
   "source": [
    "#Define mass of salt in mg\n",
    "mrec_g = 400 #mass of salt in g\n",
    "mg_per_g = 1000\n",
    "mrec_mg = mg_per_g*mrec_g\n",
    "\n",
    "# Define the time interval from your logger\n",
    "time_interval = 1 #second. Check your data to see if this ia the same for you! \n"
   ]
  },
  {
   "cell_type": "markdown",
   "metadata": {},
   "source": [
    "To calculate discharge from the conductivity measurements, we use\n",
    "\n",
    "$$Q = \\frac{m_{\\rm rec}}{\\Sigma_i (C_{salt,i} dt)},$$\n",
    "\n",
    "where $Q$ is the discharge, $C_{salt,i}$ is the timeseries of salt concentrations (C_salt_pulse in our code), and $dt$ is the time between consecutive conductivity measurements (time_interval)."
   ]
  },
  {
   "cell_type": "code",
   "execution_count": null,
   "metadata": {},
   "outputs": [],
   "source": [
    "#Now calculate discharge\n",
    "\n",
    "discharge = mrec_mg / (C_salt_pulse.sum() * time_interval)\n",
    "\n",
    "print('Discharge:',discharge, 'L/s')"
   ]
  },
  {
   "cell_type": "code",
   "execution_count": null,
   "metadata": {
    "id": "NlCkiKRUPKVS"
   },
   "outputs": [],
   "source": [
    "# Repeat this process for the salt tracer discharge measurements you conducted\n",
    "\n"
   ]
  },
  {
   "cell_type": "code",
   "execution_count": null,
   "metadata": {},
   "outputs": [],
   "source": []
  },
  {
   "cell_type": "code",
   "execution_count": null,
   "metadata": {},
   "outputs": [],
   "source": []
  },
  {
   "cell_type": "markdown",
   "metadata": {},
   "source": [
    "### Bucket and stopwatch measurements"
   ]
  },
  {
   "cell_type": "code",
   "execution_count": null,
   "metadata": {},
   "outputs": [],
   "source": [
    "# Here is an example bucket and stopwatch dataset\n",
    "Q_bucket = read_csv('example-datasheets/Bucket-discharge.csv')\n",
    "Q_bucket"
   ]
  },
  {
   "cell_type": "code",
   "execution_count": null,
   "metadata": {},
   "outputs": [],
   "source": [
    "# Calculate discharge for each pair of volumes and times using Q = V/T.\n",
    "# Then average to get the final discharge estimate.\n"
   ]
  },
  {
   "cell_type": "code",
   "execution_count": null,
   "metadata": {},
   "outputs": [],
   "source": []
  },
  {
   "cell_type": "code",
   "execution_count": null,
   "metadata": {},
   "outputs": [],
   "source": []
  }
 ],
 "metadata": {
  "colab": {
   "provenance": []
  },
  "kernelspec": {
   "display_name": "Python 3 (ipykernel)",
   "language": "python",
   "name": "python3"
  },
  "language_info": {
   "codemirror_mode": {
    "name": "ipython",
    "version": 3
   },
   "file_extension": ".py",
   "mimetype": "text/x-python",
   "name": "python",
   "nbconvert_exporter": "python",
   "pygments_lexer": "ipython3",
   "version": "3.9.13"
  }
 },
 "nbformat": 4,
 "nbformat_minor": 1
}
