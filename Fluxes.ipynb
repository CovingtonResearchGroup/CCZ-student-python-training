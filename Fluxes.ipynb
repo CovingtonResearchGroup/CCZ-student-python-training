{
 "cells": [
  {
   "cell_type": "markdown",
   "id": "49d1beb9-eca4-4f3a-a75b-3b0cdcd0e015",
   "metadata": {},
   "source": [
    "## Fluxes of CO2, O2, and TDS"
   ]
  },
  {
   "cell_type": "markdown",
   "id": "a5e07ece-1c69-4b30-b6cf-e3a579839e2b",
   "metadata": {},
   "source": [
    "One of our central goals was to quantify fluxes within the CZ. Here we will calculate these fluxes.\n",
    "\n",
    "Questions:\n",
    "- How do fluxes in the epikarst springs compare to fluxes in the sinking stream? Are components gained or lost?\n",
    "- How do fluxes into the sink point compare to fluxes out at Langle Spring?\n",
    "- If there are differences in fluxes, what factors might explain these? What processes might be going on within the subsurface or in the sinking stream that change the chemistry of the water?"
   ]
  },
  {
   "cell_type": "markdown",
   "id": "6406a86a-0dfa-406f-98d5-1df1370a7e03",
   "metadata": {},
   "source": [
    "Fluxes of dissolved constiuents (or, more precisely, mass flow rates) are expressed in terms of mass (or number) per time. Here, we will calculate fluxes as either mg/s, g/s, or mol/s. We calculate flux using\n",
    "\n",
    "$$ F = C Q, $$\n",
    "\n",
    "where $F$ is flux, $C$ is the concentration of the constiuent of interest (in mg/L, g/L, or mol/L), and $Q$ is the discharge in $L/s$. "
   ]
  },
  {
   "cell_type": "markdown",
   "id": "7dfb292d-f81c-4b2c-a195-0ca283ec42ab",
   "metadata": {},
   "source": [
    "### CO2 fluxes"
   ]
  },
  {
   "cell_type": "markdown",
   "id": "fc91d935-4d13-413d-89b9-28da5981bf66",
   "metadata": {},
   "source": [
    "Our CO2 measurements are in ppm, and to calculate fluxes we will have to convert to some unit of mass. To calculate concentration of a dissolved gas using a partial pressure, which is what we measured, we use Henry's Law\n",
    "\n",
    "$$ ({\\rm CO_2}) = K_H p{\\rm CO_2}, $$\n",
    "\n",
    "where $({\\rm CO_2})$ is the concentration of aqueous ${\\rm CO_2}$ in mol/L, $p{\\rm CO_2}$ is the partial pressure of ${\\rm CO_2}$ in atm, and $K_H$ is Henry's law constant for ${\\rm CO_2}$ and is a function of temperature. Luckily, our friend *Olm* makes it easy to calculate $K_H$. If you haven't already installed *Olm*, then run the command below, otherwise, you can skip it."
   ]
  },
  {
   "cell_type": "code",
   "execution_count": null,
   "id": "c121571a-82e9-48bf-9b59-a2cce3112aa6",
   "metadata": {},
   "outputs": [],
   "source": [
    "!pip install olm-karst"
   ]
  },
  {
   "cell_type": "code",
   "execution_count": null,
   "id": "67ce8180-fa3c-4015-a76a-095d01354cba",
   "metadata": {},
   "outputs": [],
   "source": [
    "import numpy as np\n",
    "import matplotlib.pyplot as plt"
   ]
  },
  {
   "cell_type": "code",
   "execution_count": null,
   "id": "67c144e1-8cc9-44e4-b3ae-40c806f5c6e7",
   "metadata": {},
   "outputs": [],
   "source": [
    "from olm.calcite import calc_K_H\n",
    "from olm.general import CtoK\n",
    "\n",
    "CO2_example = 9000. # An example CO2 value in ppm\n",
    "T_C = 18. # Example water temperature\n",
    "\n",
    "#First, we have to convert ppm to atm (atmospheres). 1 atm = 1 million ppm\n",
    "ppm_per_atm = 10**6\n",
    "CO2_atm = CO2_example / ppm_per_atm\n",
    "\n",
    "T_K = CtoK(T_C) #Convert our measured water temp to Kelvin\n",
    "K_H = calc_K_H(T_K) # Calculate K_H\n",
    "\n",
    "CO2_mol_L = K_H * CO2_atm\n",
    "print('(CO2)aq =', CO2_mol_L, 'mol/L')"
   ]
  },
  {
   "cell_type": "code",
   "execution_count": null,
   "id": "f5357b9f-6e06-44bd-beaa-faf0daaeb999",
   "metadata": {},
   "outputs": [],
   "source": [
    "#If we wanted to convert this to mg/L, we could also use Olm\n",
    "from olm.general import molL_to_mgL\n",
    "\n",
    "CO2_mg_L = molL_to_mgL(CO2_mol_L, 'CO2')\n",
    "print('(CO2)aq =', CO2_mg_L, 'mg/L')\n"
   ]
  },
  {
   "cell_type": "code",
   "execution_count": null,
   "id": "b48890e9-51ef-4cd3-b38c-9582fc969210",
   "metadata": {},
   "outputs": [],
   "source": [
    "# Use the approach above, and our data from yesterday, to calculate CO2 fluxes\n",
    "# at all sites where we have pCO2 and discharge measurements.\n",
    "\n"
   ]
  },
  {
   "cell_type": "code",
   "execution_count": null,
   "id": "f3cfe45b-1d36-43aa-b68f-92c8a2415db1",
   "metadata": {},
   "outputs": [],
   "source": [
    "# If time allows, you could use a similar approach to calculate fluxes over \n",
    "# a long time period using the CO2 and discharge values in Langle.csv\n",
    "\n"
   ]
  },
  {
   "cell_type": "markdown",
   "id": "9d459e18-f8cd-4bdd-a130-21f2243b8701",
   "metadata": {},
   "source": [
    "### O2 Fluxes\n"
   ]
  },
  {
   "cell_type": "markdown",
   "id": "5e74599d-1585-41be-9c1a-52f53c9066e1",
   "metadata": {},
   "source": [
    "For dissolved oxygen, the meter already provides units of mg/L. Therefore, calculation of oxygen fluxes in mg/s is straightforward when combined with discharge. "
   ]
  },
  {
   "cell_type": "code",
   "execution_count": null,
   "id": "98dc429b-eeb8-4da0-b7dc-21aafd41e416",
   "metadata": {},
   "outputs": [],
   "source": [
    "# Calculate O2 fluxes for all the sites with O2 and discharge measurements.\n",
    "\n"
   ]
  },
  {
   "cell_type": "markdown",
   "id": "bbb809dc-3d92-4771-9e93-00dd97d9fdfc",
   "metadata": {},
   "source": [
    "### Interpretation of O2 and CO2 fluxes"
   ]
  },
  {
   "cell_type": "markdown",
   "id": "99860dc7-6489-4ae8-8b6e-0bf26009c6e1",
   "metadata": {},
   "source": [
    "To provide a bit of additional context on these fluxes, and what might be going on between the sink point and Langle Spring, here are some time series of recent gas concentrations at the site. We have CO2 at Langle and Tree Springs as well as in the shallow (30 cm) and intermediate depth (2.5 m) soil wells. O2 data are limited to only the soil."
   ]
  },
  {
   "cell_type": "code",
   "execution_count": null,
   "id": "db4948dd-3a46-4f90-9dee-71273d2487fc",
   "metadata": {},
   "outputs": [],
   "source": [
    "from pandas import read_csv"
   ]
  },
  {
   "cell_type": "code",
   "execution_count": null,
   "id": "73db3c05-b97a-43a1-bdc6-b93ae6e760da",
   "metadata": {},
   "outputs": [],
   "source": [
    "Langle = read_csv('data/Langle-recent.csv', index_col=0, parse_dates=True)\n",
    "Tree = read_csv('data/Tree-Spring.csv', index_col=0, parse_dates=True)\n",
    "Soil = read_csv('data/Shallow-Soil.csv', index_col=0, parse_dates=True)\n",
    "Intermed_well = read_csv('data/Intermediate-Well.csv', index_col=0, parse_dates=True)"
   ]
  },
  {
   "cell_type": "code",
   "execution_count": null,
   "id": "e61c6d83-b880-433e-8f7d-15892550ff7b",
   "metadata": {},
   "outputs": [],
   "source": [
    "Langle['CO2[ppm]'].plot()\n",
    "Tree['CO2[ppm]'].plot()\n",
    "Soil['CO2[ppm]'].plot()\n",
    "Intermed_well['CO2[ppm]'].plot()\n",
    "plt.ylabel('CO2 (ppm)')\n",
    "plt.legend(['Langle', 'Tree', 'Soil','Intermed'], loc='upper left');"
   ]
  },
  {
   "cell_type": "code",
   "execution_count": null,
   "id": "6f1595ae-9d02-4847-8932-d31a98808e43",
   "metadata": {},
   "outputs": [],
   "source": [
    "Soil['O2'].plot()\n",
    "plt.ylabel('O2 %');"
   ]
  },
  {
   "cell_type": "markdown",
   "id": "e4369030-028a-4b1e-8ef4-f4998b6c23f0",
   "metadata": {},
   "source": [
    "### TDS fluxes"
   ]
  },
  {
   "cell_type": "markdown",
   "id": "9bbd5a90-77e3-471f-9e25-66135b842a67",
   "metadata": {},
   "source": [
    "To calculate total dissolved solids (TDS), we can use the SpC values and the equation\n",
    "\n",
    "$$ {\\rm TDS} = k \\times {\\rm SpC}, $$\n",
    "\n",
    "where $k$ is a constant that is approximately 0.6. This converts SpC in $\\mu$S/cm into mg/L TDS."
   ]
  },
  {
   "cell_type": "code",
   "execution_count": null,
   "id": "5889073e-e67f-4749-9255-b4893f4b723e",
   "metadata": {},
   "outputs": [],
   "source": [
    "# Use the equation above, along with the SpC data to calculate TDS fluxes\n",
    "# at all sites where we have both discharge and SpC values.\n",
    "\n"
   ]
  }
 ],
 "metadata": {
  "kernelspec": {
   "display_name": "Python 3 (ipykernel)",
   "language": "python",
   "name": "python3"
  },
  "language_info": {
   "codemirror_mode": {
    "name": "ipython",
    "version": 3
   },
   "file_extension": ".py",
   "mimetype": "text/x-python",
   "name": "python",
   "nbconvert_exporter": "python",
   "pygments_lexer": "ipython3",
   "version": "3.9.12"
  }
 },
 "nbformat": 4,
 "nbformat_minor": 5
}
