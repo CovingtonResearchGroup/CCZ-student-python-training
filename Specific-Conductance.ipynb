{
 "cells": [
  {
   "cell_type": "markdown",
   "id": "4f21f450-12c1-403b-b030-e9484c84fac6",
   "metadata": {},
   "source": [
    "## Specific conductance, dissolved load, and calcite saturation state"
   ]
  },
  {
   "cell_type": "markdown",
   "id": "e354ab28-8cd1-4289-80ae-2b5298306fa5",
   "metadata": {},
   "source": [
    "Specific conductance (SpC) is an indicator of the dissolved load in the water. At our site, we expect most of that dissolved load to be from carbonate minerals. However, it could also indicate pollution. In that case, other ions, such as Chloride (which we measured) could also be high."
   ]
  },
  {
   "cell_type": "markdown",
   "id": "9e132cf0-c937-4fa9-9379-5c89d83753b6",
   "metadata": {},
   "source": [
    "#### Questions\n",
    "\n",
    "- How does dissolved load change from one part of the system to another? What processes might add or remove it?\n",
    "- Is there any evidence that these differences among sites are a function of polution, or could it just be differences in dissolved carbonate?\n",
    "- Is the water undersaturated, saturated, or supersaturated with respect to calcite? How does this vary throughout the system?\n",
    "- What are the long-term patterns in SpC observed at the site, and how do your observations fit into them?\n",
    "- Does evolution of SpC along the sinking stream show any evidence of precipitation or dissolution, or can the changes in SpC be explained purely by mixing of waters from the springs and stream?"
   ]
  },
  {
   "cell_type": "markdown",
   "id": "e85e6a7c-5579-4567-86bd-d6e8f6248597",
   "metadata": {},
   "source": [
    "#### Read in water quality data"
   ]
  },
  {
   "cell_type": "code",
   "execution_count": null,
   "id": "cd2e9d0d-ee91-477c-9eee-08ef44829588",
   "metadata": {},
   "outputs": [],
   "source": [
    "# Read in the water quality data from the spreadsheet\n",
    "from pandas import read_csv\n",
    "import numpy as np\n",
    "import matplotlib.pyplot as plt\n"
   ]
  },
  {
   "cell_type": "code",
   "execution_count": null,
   "id": "6425866a-93b5-4f9e-aa26-8b63d864db4b",
   "metadata": {},
   "outputs": [],
   "source": [
    "# Make a boxplot of SpC measurements categorized by type of site\n",
    "# (spring, epikarst, stream, well)\n",
    "\n"
   ]
  },
  {
   "cell_type": "markdown",
   "id": "475c8b0f-f612-4ac6-befd-747095d11a8a",
   "metadata": {},
   "source": [
    "### SpC and pollution"
   ]
  },
  {
   "cell_type": "code",
   "execution_count": null,
   "id": "9062ae40-3e56-447b-ae51-451785efe117",
   "metadata": {},
   "outputs": [],
   "source": [
    "# To examine whether there is any relationship between SpC and\n",
    "# pollution, make a scatter plot of SpC vs Chloride.\n",
    "\n"
   ]
  },
  {
   "cell_type": "markdown",
   "id": "a4a3570c-828d-4f3b-ae8d-e2562fe3a53e",
   "metadata": {},
   "source": [
    "### Calcite Saturation"
   ]
  },
  {
   "cell_type": "markdown",
   "id": "29270b1f-8cd3-4973-8ce1-6e0a62c3ace0",
   "metadata": {},
   "source": [
    "To examine calcite saturation, we will use functions from a Python package called *Olm*, which was written to conduct basic water chemistry analysis in karst settings. First we need to install this package (if you haven't already done so). We can install using the following command."
   ]
  },
  {
   "cell_type": "code",
   "execution_count": null,
   "id": "ac77167c-5d68-4cab-a30f-d40499af4059",
   "metadata": {
    "tags": []
   },
   "outputs": [],
   "source": [
    "!pip install olm-karst"
   ]
  },
  {
   "cell_type": "markdown",
   "id": "3f7c710c-053b-4ba1-a124-54da34b9857f",
   "metadata": {},
   "source": [
    "To see more about what *Olm* can do, check out the Github repository here:\n",
    "\n",
    "https://github.com/CovingtonResearchGroup/olm/tree/master\n",
    "\n",
    "Or the example tutorials here:\n",
    "\n",
    "https://github.com/CovingtonResearchGroup/olm-examples"
   ]
  },
  {
   "cell_type": "markdown",
   "id": "d9517d90-7344-4d6f-b4c1-4eb280c7dc43",
   "metadata": {},
   "source": [
    "We will use *Olm* here to estimate the saturation state of the water with respect to calcite (the main component of limestone). These calcualtions assume that the chemistry is dominated by ions in the $H_2O - CO_2 - CaCO_3$ system. If we have a substantial component from other ions (for example from pollution), then these calculations will be inaccurate."
   ]
  },
  {
   "cell_type": "markdown",
   "id": "318ecbbe-558c-48ec-a125-0cc84f8ca7cc",
   "metadata": {},
   "source": [
    "The first step is to estimate the dissolved Calcium concentration from our SpC values. This could be done using a global relationship which is provided in olm.general.CaFromCond(). However, we can do better, since we have a set of Ca concentrations and SpC measurements from Savoy."
   ]
  },
  {
   "cell_type": "code",
   "execution_count": null,
   "id": "f3b3a09e-7e69-49de-a819-11346dee1ad2",
   "metadata": {},
   "outputs": [],
   "source": [
    "# This csv contains SpC (uS/cm) and Ca (mg/L) values from water samples at Savoy.\n",
    "savoy_chem = read_csv('data/savoy_chem.csv')\n",
    "savoy_chem\n",
    "\n",
    "# Note, the pH and temp data here are fabricated (all the same value).\n",
    "# We will just use them to illustrate the method of saturation\n",
    "# ratio calculation below."
   ]
  },
  {
   "cell_type": "code",
   "execution_count": null,
   "id": "b30568ce-2ec5-4514-b247-44fef721e6c2",
   "metadata": {},
   "outputs": [],
   "source": [
    "# Let's plot the relationship\n",
    "plt.plot(savoy_chem['SpC'], savoy_chem['Ca'], 'o')\n",
    "plt.xlabel('Specific conductance $\\mu$S/cm')\n",
    "plt.ylabel('Ca concentration (mg/L)')"
   ]
  },
  {
   "cell_type": "markdown",
   "id": "ec6d6d57-4f4f-4015-8f1e-66c6019ad550",
   "metadata": {},
   "source": [
    "You can see that there is a relatively good linear relationship between Ca and SpC. Therefore, we can use this relationship to estimate what Ca would be, just from our SpC measurements in the field. To do this, we need to fit a line."
   ]
  },
  {
   "cell_type": "code",
   "execution_count": null,
   "id": "85b66037-0caf-4c55-85fe-3a5534917701",
   "metadata": {},
   "outputs": [],
   "source": [
    "from scipy.stats import linregress\n",
    "\n",
    "slope, intercept, r, p, se = linregress(savoy_chem['SpC'], savoy_chem['Ca'])\n"
   ]
  },
  {
   "cell_type": "code",
   "execution_count": null,
   "id": "ff1d8502-fa87-40e3-9cb2-a41ac1b25831",
   "metadata": {},
   "outputs": [],
   "source": [
    "# We can plot this best fit on top of the data like this\n",
    "plt.plot(savoy_chem['SpC'], savoy_chem['Ca'], 'o')\n",
    "plt.xlabel('Specific conductance $\\mu$S/cm')\n",
    "plt.ylabel('Ca concentration (mg/L)')\n",
    "\n",
    "# Create an array of SpC values to make our line, picking an appropriate range\n",
    "SpC_model = np.linspace(100,340, 5) \n",
    "Ca_model = slope*SpC_model + intercept\n",
    "plt.plot(SpC_model, Ca_model, '-')\n"
   ]
  },
  {
   "cell_type": "code",
   "execution_count": null,
   "id": "009df25b-4b2e-4dc8-bb12-3415d5e23963",
   "metadata": {},
   "outputs": [],
   "source": [
    "# Now, we can use values of SpC, along with the slope and\n",
    "# intercept derived above, to estimate Ca. Here we will \n",
    "# illustrate this with the values above. However, you should\n",
    "# do this below with the SpC values you collected in the field.\n",
    "\n",
    "Ca_mg_L = slope*savoy_chem.SpC + intercept"
   ]
  },
  {
   "cell_type": "markdown",
   "id": "186aa4eb-915b-49f2-bf32-7276279a4e3e",
   "metadata": {},
   "source": [
    "Once we have Ca, we can use *Olm* to do the hard work of estimating calcite saturation state. It can approximate the chemistry of a solution using Ca and pH using the process below."
   ]
  },
  {
   "cell_type": "code",
   "execution_count": null,
   "id": "b8539d06-6437-45a8-a0e1-f8eb6c640771",
   "metadata": {},
   "outputs": [],
   "source": [
    "# First, we need to convert Ca into mol/L.\n",
    "from olm.general import mgL_to_molL\n",
    "\n",
    "# We just have to provide the concentration and tell it which ion we have\n",
    "Ca_mol_L = mgL_to_molL(Ca_mg_L, 'Ca')"
   ]
  },
  {
   "cell_type": "code",
   "execution_count": null,
   "id": "c0d127aa-34d3-4c46-a126-cc4d133c2704",
   "metadata": {},
   "outputs": [],
   "source": [
    "# This is the function we use to calculation the properties\n",
    "# of the solution.\n",
    "from olm.calcite import solutionFrompHCaRelaxed\n",
    "\n",
    "pH_obs = savoy_chem.pH # use our fabricated pH values as example\n",
    "T_C_obs = savoy_chem.T_C # use our fabricated temp values as example\n",
    "\n",
    "solutions = solutionFrompHCaRelaxed(Ca_mol_L, pH_obs, T_C=T_C_obs)\n",
    "\n",
    "\n"
   ]
  },
  {
   "cell_type": "markdown",
   "id": "0abdec01-6131-464e-8e69-901ba46676b1",
   "metadata": {},
   "source": [
    "With *Olm*, many types of calculations can be done with `solution` objects. Here we will calculate the equilibrium concentration of Ca with respect to calcite."
   ]
  },
  {
   "cell_type": "code",
   "execution_count": null,
   "id": "ec896b24-0030-4f10-a71e-fd7419673e3a",
   "metadata": {},
   "outputs": [],
   "source": [
    "from olm.calcite import concCaEqFromSolution\n",
    "\n",
    "#This estimates the equilibrium Ca concentration in mol/L\n",
    "Ca_eq = concCaEqFromSolution(solutions)\n"
   ]
  },
  {
   "cell_type": "markdown",
   "id": "01739bfa-1ab8-4925-87be-b0ed0cb9fe8d",
   "metadata": {},
   "source": [
    "One way to express saturation state is using the 'saturation ratio,' ${\\rm R=Ca/Ca_{eq}}$. The solution is saturated if $R=1$, undersaturated if $R<1$, and supersaturated if $R>1$."
   ]
  },
  {
   "cell_type": "code",
   "execution_count": null,
   "id": "9f7a3fab-cdbf-400d-b0f7-c7a29dd41a11",
   "metadata": {},
   "outputs": [],
   "source": [
    "R = Ca_mol_L/Ca_eq\n",
    "R"
   ]
  },
  {
   "cell_type": "code",
   "execution_count": null,
   "id": "16c99eca-f8f2-47a4-9eb9-e26ee188e565",
   "metadata": {},
   "outputs": [],
   "source": [
    "# One way to visualize this would be with a histogram, since we\n",
    "# have lots of values.\n",
    "\n",
    "plt.hist(R,15) # Note: this is a slightly different way to make histograms, using matplotlib rather than pandas\n",
    "plt.xlabel('Saturation ratio for Calcite')\n",
    "plt.ylabel('Number per bin')"
   ]
  },
  {
   "cell_type": "markdown",
   "id": "71e3bde1-93fe-4c25-a930-a3aaa9533671",
   "metadata": {},
   "source": [
    "Now make similar calculations using your field data and the method demonstrated above. What is the saturation state at your field sites? In addition to a histogram, you might consider making a boxplot of saturation ratio at different types of sites. You can assume that (Ca) is well-approximated from SpC using the fit parameters from the historical chemical dataset above."
   ]
  },
  {
   "cell_type": "code",
   "execution_count": null,
   "id": "4998da40-9c99-4dac-bec9-1760e0626473",
   "metadata": {},
   "outputs": [],
   "source": []
  },
  {
   "cell_type": "code",
   "execution_count": null,
   "id": "56cc662b",
   "metadata": {},
   "outputs": [],
   "source": []
  },
  {
   "cell_type": "code",
   "execution_count": null,
   "id": "fe5b6a0a",
   "metadata": {},
   "outputs": [],
   "source": []
  },
  {
   "cell_type": "markdown",
   "id": "d335d45d-5a8d-4fcb-abf2-6e79da1fab19",
   "metadata": {},
   "source": [
    "## Long-term SpC records"
   ]
  },
  {
   "cell_type": "code",
   "execution_count": null,
   "id": "ce4f2e65-a35b-4159-8239-d1bc40b6f4e5",
   "metadata": {},
   "outputs": [],
   "source": [
    "# There are long-term SpC records from Langle\n",
    "# and Copperhead Springs in 'data/Langle.csv' and\n",
    "# 'data/Copperhead.csv' \n",
    "\n",
    "# Read in these data and plot up the time series of\n",
    "# SpC at Langle and Copperhead. You can use\n",
    "# these longer records to get a bigger context for the\n",
    "# SpC data you collected yesterday.\n",
    "\n",
    "# The Cond values corrected using spot measurements and adjusted to 25 C are\n",
    "# in the column named Cond_corr.\n",
    "\n"
   ]
  },
  {
   "cell_type": "code",
   "execution_count": null,
   "id": "80b15811-684c-40ed-8c1e-d36c87d57874",
   "metadata": {},
   "outputs": [],
   "source": []
  },
  {
   "cell_type": "markdown",
   "id": "339665a9-88a4-4395-9a8b-d6e2fb9df5a2",
   "metadata": {},
   "source": [
    "## SpC as a tracker of mixing and reactions"
   ]
  },
  {
   "cell_type": "markdown",
   "id": "93883473-943c-44c3-a433-dd3246a44e44",
   "metadata": {},
   "source": [
    "One of the questions above is whether changes in SpC within the sinking stream are only indicative of conservative mixing (no reactions) or whether there are some reactions (most likely calcite precipitation or dissolution) that cause changes in SpC along the stream. To really answer this question, you will also need discharge data. However, you can get a start by making the *assumption* of conservative mixing and using it to calculate ratios of discharge in the main sinking stream and specific inputs. Note this will only work if some infeeding streams from the epikarst springs have SpC that is different from the main stream."
   ]
  },
  {
   "cell_type": "markdown",
   "id": "21838488-8502-404b-94fe-f68c324ab906",
   "metadata": {},
   "source": [
    "Under conservative mixing, from conservation of mass, we get:\n",
    "\n",
    "$$C_{\\rm tot} Q_{\\rm tot} = C_1 Q_1 + C_2 Q_2 $$\n",
    "\n",
    "where $C_1$ and $C_2$ are the concentrations of some ion (or all ions) in two streams that flow together, and $Q_1$ and $Q_2$ are the discharges in those streams. $C_{\\rm tot}$ and $Q_{\\rm tot}$ are the concentration and discharge of the combined flow."
   ]
  },
  {
   "cell_type": "markdown",
   "id": "0d7f62e8-7601-412c-98f1-b1f391c9ad77",
   "metadata": {},
   "source": [
    "Since SpC is proportional to the concentration of all dissolved ions, we can use it in place of the $C$'s in this equation. "
   ]
  },
  {
   "cell_type": "markdown",
   "id": "e7c26d0b-baa2-413a-9e8b-f400a2fb623e",
   "metadata": {},
   "source": [
    "We also know that $Q_{\\rm tot}=Q_1 + Q_2$, since these two streams join to make the total flow. We can use this equation to either $Q_2$ from the equation, and with some algebra can derive the following relationship:\n",
    "\n",
    "$$ \\frac{Q_1}{Q_{\\rm tot}} = \\frac{(C_{\\rm tot} - C_2)}{(C_1 - C_2)} $$\n",
    "\n",
    "If we let $Q_1$ be the flow coming in from one of the epikarst springs, then under an assumption of conservative mixing, we could use this equation to calculation the percentage of the flow that was being contributed from the spring. If we have discharge measurements from the spring and main stream, then we could compare.\n",
    "\n",
    "If these the discharge ratio calculated from SpC doesn't match the discharge measurements, then either there is some sort of reaction going on that changes dissolved load, or our discharge measurements are in error."
   ]
  },
  {
   "cell_type": "code",
   "execution_count": null,
   "id": "f7499631-450e-4407-9db0-65b7b6fe35f1",
   "metadata": {},
   "outputs": [],
   "source": [
    "# Examine whether any of the spring junctions have sufficiently different SpC\n",
    "# to try this mixing model. If so, calculate the percentage of flow contributed\n",
    "# from that spring assuming conservative mixing. How does this compare to measured\n",
    "# discharges?"
   ]
  },
  {
   "cell_type": "code",
   "execution_count": null,
   "id": "caab01aa-2e9f-4410-95fa-2d4c9c3960c4",
   "metadata": {},
   "outputs": [],
   "source": []
  },
  {
   "cell_type": "code",
   "execution_count": null,
   "id": "7a8e87f8-a354-4f08-abf0-a9c1e1fb9891",
   "metadata": {},
   "outputs": [],
   "source": []
  }
 ],
 "metadata": {
  "kernelspec": {
   "display_name": "Python 3 (ipykernel)",
   "language": "python",
   "name": "python3"
  },
  "language_info": {
   "codemirror_mode": {
    "name": "ipython",
    "version": 3
   },
   "file_extension": ".py",
   "mimetype": "text/x-python",
   "name": "python",
   "nbconvert_exporter": "python",
   "pygments_lexer": "ipython3",
   "version": "3.9.12"
  }
 },
 "nbformat": 4,
 "nbformat_minor": 5
}
