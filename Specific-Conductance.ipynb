{
 "cells": [
  {
   "cell_type": "markdown",
   "id": "4f21f450-12c1-403b-b030-e9484c84fac6",
   "metadata": {},
   "source": [
    "## Specific conductance, dissolved load, and calcite saturation state"
   ]
  },
  {
   "cell_type": "markdown",
   "id": "e354ab28-8cd1-4289-80ae-2b5298306fa5",
   "metadata": {},
   "source": [
    "Specific conductance (SpC) is an indicator of the dissolved load in the water. At our site, we expect most of that dissolved load to be from carbonate minerals. However, it could also indicate polution. In that case, other ions, such as Chloride (which we measured) could also be high."
   ]
  },
  {
   "cell_type": "markdown",
   "id": "9e132cf0-c937-4fa9-9379-5c89d83753b6",
   "metadata": {},
   "source": [
    "#### Questions\n",
    "\n",
    "- How does dissolved load change from one part of the system to another?\n",
    "- Is there any evidence that these differences are a function of polution, or could it just be differences in dissolved carbonate?\n",
    "- Is the water undersaturated, saturated, or supersaturated with respect to calcite?\n",
    "- Does evolution of SpC along the sinking stream show any evidence of precipitation or dissolution, or can the changes in SpC be explained purely by mixing of waters from the springs and stream?"
   ]
  },
  {
   "cell_type": "markdown",
   "id": "e85e6a7c-5579-4567-86bd-d6e8f6248597",
   "metadata": {},
   "source": [
    "#### Read in water quality data"
   ]
  },
  {
   "cell_type": "code",
   "execution_count": 13,
   "id": "cd2e9d0d-ee91-477c-9eee-08ef44829588",
   "metadata": {},
   "outputs": [],
   "source": [
    "# Read in the water quality data from the spreadsheet\n",
    "from pandas import read_csv\n",
    "import numpy as np\n",
    "import matplotlib.pyplot as plt\n",
    "\n"
   ]
  },
  {
   "cell_type": "code",
   "execution_count": null,
   "id": "6425866a-93b5-4f9e-aa26-8b63d864db4b",
   "metadata": {},
   "outputs": [],
   "source": [
    "# Make a boxplot of SpC measurements categorized by type of site\n",
    "# (spring, epikarst, stream, well)\n",
    "\n"
   ]
  },
  {
   "cell_type": "markdown",
   "id": "475c8b0f-f612-4ac6-befd-747095d11a8a",
   "metadata": {},
   "source": [
    "### SpC and pollution"
   ]
  },
  {
   "cell_type": "code",
   "execution_count": null,
   "id": "9062ae40-3e56-447b-ae51-451785efe117",
   "metadata": {},
   "outputs": [],
   "source": [
    "# To examine whether there is any relationship between SpC and\n",
    "# pollution, make a scatter plot of SpC vs Chloride.\n",
    "\n"
   ]
  },
  {
   "cell_type": "markdown",
   "id": "a4a3570c-828d-4f3b-ae8d-e2562fe3a53e",
   "metadata": {},
   "source": [
    "### Calcite Saturation"
   ]
  },
  {
   "cell_type": "markdown",
   "id": "29270b1f-8cd3-4973-8ce1-6e0a62c3ace0",
   "metadata": {},
   "source": [
    "To examine calcite saturation, we will use functions from a Python package called *Olm*, which was written to conduct basic water chemistry analysis in karst settings. First we need to install this package (if you haven't already done so). We can install using the following command."
   ]
  },
  {
   "cell_type": "code",
   "execution_count": 1,
   "id": "ac77167c-5d68-4cab-a30f-d40499af4059",
   "metadata": {
    "collapsed": true,
    "jupyter": {
     "outputs_hidden": true
    },
    "tags": []
   },
   "outputs": [
    {
     "name": "stdout",
     "output_type": "stream",
     "text": [
      "Requirement already satisfied: olm-karst in /home/mcoving/anaconda3/lib/python3.9/site-packages/olm_karst-0.39-py3.9.egg (0.39)\n",
      "Requirement already satisfied: numpy in /home/mcoving/anaconda3/lib/python3.9/site-packages (from olm-karst) (1.21.5)\n",
      "Requirement already satisfied: scipy in /home/mcoving/anaconda3/lib/python3.9/site-packages (from olm-karst) (1.9.1)\n",
      "Requirement already satisfied: matplotlib in /home/mcoving/anaconda3/lib/python3.9/site-packages (from olm-karst) (3.5.2)\n",
      "Requirement already satisfied: pandas in /home/mcoving/anaconda3/lib/python3.9/site-packages (from olm-karst) (1.4.4)\n",
      "Requirement already satisfied: lxml in /home/mcoving/anaconda3/lib/python3.9/site-packages (from olm-karst) (4.9.1)\n",
      "Requirement already satisfied: xlrd in /home/mcoving/anaconda3/lib/python3.9/site-packages (from olm-karst) (2.0.1)\n",
      "Collecting xlwt\n",
      "  Downloading xlwt-1.3.0-py2.py3-none-any.whl (99 kB)\n",
      "\u001b[2K     \u001b[38;2;114;156;31m━━━━━━━━━━━━━━━━━━━━━━━━━━━━━━━━━━━━━\u001b[0m \u001b[32m100.0/100.0 kB\u001b[0m \u001b[31m701.6 kB/s\u001b[0m eta \u001b[36m0:00:00\u001b[0m kB/s\u001b[0m eta \u001b[36m0:00:01\u001b[0m:01\u001b[0m\n",
      "\u001b[?25hRequirement already satisfied: openpyxl in /home/mcoving/anaconda3/lib/python3.9/site-packages (from olm-karst) (3.0.10)\n",
      "Requirement already satisfied: requests in /home/mcoving/anaconda3/lib/python3.9/site-packages (from olm-karst) (2.28.1)\n",
      "Requirement already satisfied: pyparsing>=2.2.1 in /home/mcoving/anaconda3/lib/python3.9/site-packages (from matplotlib->olm-karst) (3.0.9)\n",
      "Requirement already satisfied: pillow>=6.2.0 in /home/mcoving/anaconda3/lib/python3.9/site-packages (from matplotlib->olm-karst) (9.2.0)\n",
      "Requirement already satisfied: python-dateutil>=2.7 in /home/mcoving/anaconda3/lib/python3.9/site-packages (from matplotlib->olm-karst) (2.8.2)\n",
      "Requirement already satisfied: fonttools>=4.22.0 in /home/mcoving/anaconda3/lib/python3.9/site-packages (from matplotlib->olm-karst) (4.25.0)\n",
      "Requirement already satisfied: packaging>=20.0 in /home/mcoving/anaconda3/lib/python3.9/site-packages (from matplotlib->olm-karst) (21.3)\n",
      "Requirement already satisfied: cycler>=0.10 in /home/mcoving/anaconda3/lib/python3.9/site-packages (from matplotlib->olm-karst) (0.11.0)\n",
      "Requirement already satisfied: kiwisolver>=1.0.1 in /home/mcoving/anaconda3/lib/python3.9/site-packages (from matplotlib->olm-karst) (1.4.2)\n",
      "Requirement already satisfied: et_xmlfile in /home/mcoving/anaconda3/lib/python3.9/site-packages (from openpyxl->olm-karst) (1.1.0)\n",
      "Requirement already satisfied: pytz>=2020.1 in /home/mcoving/anaconda3/lib/python3.9/site-packages (from pandas->olm-karst) (2022.1)\n",
      "Requirement already satisfied: idna<4,>=2.5 in /home/mcoving/anaconda3/lib/python3.9/site-packages (from requests->olm-karst) (3.3)\n",
      "Requirement already satisfied: certifi>=2017.4.17 in /home/mcoving/anaconda3/lib/python3.9/site-packages (from requests->olm-karst) (2022.9.14)\n",
      "Requirement already satisfied: urllib3<1.27,>=1.21.1 in /home/mcoving/anaconda3/lib/python3.9/site-packages (from requests->olm-karst) (1.26.11)\n",
      "Requirement already satisfied: charset-normalizer<3,>=2 in /home/mcoving/anaconda3/lib/python3.9/site-packages (from requests->olm-karst) (2.0.4)\n",
      "Requirement already satisfied: six>=1.5 in /home/mcoving/anaconda3/lib/python3.9/site-packages (from python-dateutil>=2.7->matplotlib->olm-karst) (1.16.0)\n",
      "Installing collected packages: xlwt\n",
      "Successfully installed xlwt-1.3.0\n"
     ]
    }
   ],
   "source": [
    "!pip install olm-karst"
   ]
  },
  {
   "cell_type": "markdown",
   "id": "3f7c710c-053b-4ba1-a124-54da34b9857f",
   "metadata": {},
   "source": [
    "To see more about what *Olm* can do, check out the Github repository here:\n",
    "\n",
    "https://github.com/CovingtonResearchGroup/olm/tree/master\n",
    "\n",
    "Or the example tutorials here:\n",
    "\n",
    "https://github.com/CovingtonResearchGroup/olm-examples"
   ]
  },
  {
   "cell_type": "markdown",
   "id": "d9517d90-7344-4d6f-b4c1-4eb280c7dc43",
   "metadata": {},
   "source": [
    "We will use *Olm* here to estimate the saturation state of the water with respect to calcite (the main component of limestone). These calcualtions assume that the chemistry is dominated by ions in the $H_2O - CO_2 - CaCO_3$ system. If we have a substantial component from other ions (for example from pollution), then these calculations will be inaccurate."
   ]
  },
  {
   "cell_type": "markdown",
   "id": "318ecbbe-558c-48ec-a125-0cc84f8ca7cc",
   "metadata": {},
   "source": [
    "The first step is to estimate the dissolved Calcium concentration from our SpC values. This could be done using a global relationship which is provided in olm.general.CaFromCond(). However, we can do better, since we have a set of Ca concentrations and SpC measurements from Savoy."
   ]
  },
  {
   "cell_type": "code",
   "execution_count": 27,
   "id": "f3b3a09e-7e69-49de-a819-11346dee1ad2",
   "metadata": {},
   "outputs": [
    {
     "data": {
      "text/html": [
       "<div>\n",
       "<style scoped>\n",
       "    .dataframe tbody tr th:only-of-type {\n",
       "        vertical-align: middle;\n",
       "    }\n",
       "\n",
       "    .dataframe tbody tr th {\n",
       "        vertical-align: top;\n",
       "    }\n",
       "\n",
       "    .dataframe thead th {\n",
       "        text-align: right;\n",
       "    }\n",
       "</style>\n",
       "<table border=\"1\" class=\"dataframe\">\n",
       "  <thead>\n",
       "    <tr style=\"text-align: right;\">\n",
       "      <th></th>\n",
       "      <th>SpC</th>\n",
       "      <th>Ca</th>\n",
       "      <th>pH</th>\n",
       "      <th>T_C</th>\n",
       "    </tr>\n",
       "  </thead>\n",
       "  <tbody>\n",
       "    <tr>\n",
       "      <th>0</th>\n",
       "      <td>223.0</td>\n",
       "      <td>40.6</td>\n",
       "      <td>7.8</td>\n",
       "      <td>15</td>\n",
       "    </tr>\n",
       "    <tr>\n",
       "      <th>1</th>\n",
       "      <td>221.0</td>\n",
       "      <td>40.1</td>\n",
       "      <td>7.8</td>\n",
       "      <td>15</td>\n",
       "    </tr>\n",
       "    <tr>\n",
       "      <th>2</th>\n",
       "      <td>147.0</td>\n",
       "      <td>25.4</td>\n",
       "      <td>7.8</td>\n",
       "      <td>15</td>\n",
       "    </tr>\n",
       "    <tr>\n",
       "      <th>3</th>\n",
       "      <td>181.0</td>\n",
       "      <td>31.6</td>\n",
       "      <td>7.8</td>\n",
       "      <td>15</td>\n",
       "    </tr>\n",
       "    <tr>\n",
       "      <th>4</th>\n",
       "      <td>162.0</td>\n",
       "      <td>27.6</td>\n",
       "      <td>7.8</td>\n",
       "      <td>15</td>\n",
       "    </tr>\n",
       "    <tr>\n",
       "      <th>...</th>\n",
       "      <td>...</td>\n",
       "      <td>...</td>\n",
       "      <td>...</td>\n",
       "      <td>...</td>\n",
       "    </tr>\n",
       "    <tr>\n",
       "      <th>83</th>\n",
       "      <td>340.0</td>\n",
       "      <td>55.2</td>\n",
       "      <td>7.8</td>\n",
       "      <td>15</td>\n",
       "    </tr>\n",
       "    <tr>\n",
       "      <th>84</th>\n",
       "      <td>170.0</td>\n",
       "      <td>24.0</td>\n",
       "      <td>7.8</td>\n",
       "      <td>15</td>\n",
       "    </tr>\n",
       "    <tr>\n",
       "      <th>85</th>\n",
       "      <td>170.0</td>\n",
       "      <td>24.8</td>\n",
       "      <td>7.8</td>\n",
       "      <td>15</td>\n",
       "    </tr>\n",
       "    <tr>\n",
       "      <th>86</th>\n",
       "      <td>147.0</td>\n",
       "      <td>23.2</td>\n",
       "      <td>7.8</td>\n",
       "      <td>15</td>\n",
       "    </tr>\n",
       "    <tr>\n",
       "      <th>87</th>\n",
       "      <td>147.0</td>\n",
       "      <td>23.6</td>\n",
       "      <td>7.8</td>\n",
       "      <td>15</td>\n",
       "    </tr>\n",
       "  </tbody>\n",
       "</table>\n",
       "<p>88 rows × 4 columns</p>\n",
       "</div>"
      ],
      "text/plain": [
       "      SpC    Ca   pH  T_C\n",
       "0   223.0  40.6  7.8   15\n",
       "1   221.0  40.1  7.8   15\n",
       "2   147.0  25.4  7.8   15\n",
       "3   181.0  31.6  7.8   15\n",
       "4   162.0  27.6  7.8   15\n",
       "..    ...   ...  ...  ...\n",
       "83  340.0  55.2  7.8   15\n",
       "84  170.0  24.0  7.8   15\n",
       "85  170.0  24.8  7.8   15\n",
       "86  147.0  23.2  7.8   15\n",
       "87  147.0  23.6  7.8   15\n",
       "\n",
       "[88 rows x 4 columns]"
      ]
     },
     "execution_count": 27,
     "metadata": {},
     "output_type": "execute_result"
    }
   ],
   "source": [
    "# This csv contains SpC (uS/cm) and Ca (mg/L) values from water samples at Savoy.\n",
    "savoy_chem = read_csv('data/savoy_chem.csv')\n",
    "savoy_chem\n",
    "\n",
    "# Note, the pH and temp data here are fabricated (all the same value).\n",
    "# We will just use them to illustrate the method of saturation\n",
    "# ratio calculation below."
   ]
  },
  {
   "cell_type": "code",
   "execution_count": 20,
   "id": "b30568ce-2ec5-4514-b247-44fef721e6c2",
   "metadata": {},
   "outputs": [
    {
     "data": {
      "text/plain": [
       "Text(0, 0.5, 'Ca concentration (mg/L)')"
      ]
     },
     "execution_count": 20,
     "metadata": {},
     "output_type": "execute_result"
    },
    {
     "data": {
      "image/png": "[encoded data removed]",
      "text/plain": [
       "<Figure size 640x480 with 1 Axes>"
      ]
     },
     "metadata": {},
     "output_type": "display_data"
    }
   ],
   "source": [
    "# Let's plot the relationship\n",
    "plt.plot(savoy_chem['SpC'], savoy_chem['Ca'], 'o')\n",
    "plt.xlabel('Specific conductance $\\mu$S/cm')\n",
    "plt.ylabel('Ca concentration (mg/L)')"
   ]
  },
  {
   "cell_type": "markdown",
   "id": "ec6d6d57-4f4f-4015-8f1e-66c6019ad550",
   "metadata": {},
   "source": [
    "You can see that there is a relatively good linear relationship between Ca and SpC. Therefore, we can use this relationship to estimate what Ca would be, just from our SpC measurements in the field. To do this, we need to fit a line."
   ]
  },
  {
   "cell_type": "code",
   "execution_count": 21,
   "id": "85b66037-0caf-4c55-85fe-3a5534917701",
   "metadata": {},
   "outputs": [],
   "source": [
    "from scipy.stats import linregress\n",
    "\n",
    "slope, intercept, r, p, se = linregress(savoy_chem['SpC'], savoy_chem['Ca'])\n"
   ]
  },
  {
   "cell_type": "code",
   "execution_count": 22,
   "id": "ff1d8502-fa87-40e3-9cb2-a41ac1b25831",
   "metadata": {},
   "outputs": [
    {
     "data": {
      "text/plain": [
       "[<matplotlib.lines.Line2D at 0x7f5da57a17f0>]"
      ]
     },
     "execution_count": 22,
     "metadata": {},
     "output_type": "execute_result"
    },
    {
     "data": {
      "image/png": "[encoded data removed]",
      "text/plain": [
       "<Figure size 640x480 with 1 Axes>"
      ]
     },
     "metadata": {},
     "output_type": "display_data"
    }
   ],
   "source": [
    "# We can plot this best fit on top of the data like this\n",
    "plt.plot(savoy_chem['SpC'], savoy_chem['Ca'], 'o')\n",
    "plt.xlabel('Specific conductance $\\mu$S/cm')\n",
    "plt.ylabel('Ca concentration (mg/L)')\n",
    "\n",
    "# Create an array of SpC values to make our line, picking an appropriate range\n",
    "SpC_model = np.linspace(100,340, 5) \n",
    "Ca_model = slope*SpC_model + intercept\n",
    "plt.plot(SpC_model, Ca_model, '-')\n"
   ]
  },
  {
   "cell_type": "code",
   "execution_count": 25,
   "id": "009df25b-4b2e-4dc8-bb12-3415d5e23963",
   "metadata": {},
   "outputs": [],
   "source": [
    "# Now, we can use values of SpC, along with the slope and\n",
    "# intercept derived above, to estimate Ca. Here we will \n",
    "# illustrate this with the values above. However, you should\n",
    "# do this below with the SpC values you collected in the field.\n",
    "\n",
    "Ca_mg_L = slope*savoy_chem.SpC + intercept"
   ]
  },
  {
   "cell_type": "markdown",
   "id": "186aa4eb-915b-49f2-bf32-7276279a4e3e",
   "metadata": {},
   "source": [
    "Once we have Ca, we can use *Olm* to do the hard work of estimating calcite saturation state. It can approximate the chemistry of a solution using Ca and pH using the process below."
   ]
  },
  {
   "cell_type": "code",
   "execution_count": 26,
   "id": "b8539d06-6437-45a8-a0e1-f8eb6c640771",
   "metadata": {},
   "outputs": [],
   "source": [
    "# First, we need to convert Ca into mol/L.\n",
    "from olm.general import mgL_to_molL\n",
    "\n",
    "# We just have to provide the concentration and tell it which ion we have\n",
    "Ca_mol_L = mgL_to_molL(Ca_mg_L, 'Ca')"
   ]
  },
  {
   "cell_type": "code",
   "execution_count": 28,
   "id": "c0d127aa-34d3-4c46-a126-cc4d133c2704",
   "metadata": {},
   "outputs": [],
   "source": [
    "# This is the function we use to calculation the properties\n",
    "# of the solution.\n",
    "from olm.calcite import solutionFrompHCaRelaxed\n",
    "\n",
    "pH_obs = savoy_chem.pH # use our fabricated pH values as example\n",
    "T_C_obs = savoy_chem.T_C # use our fabricated temp values as example\n",
    "\n",
    "solutions = solutionFrompHCaRelaxed(Ca_mol_L, pH_obs, T_C=T_C_obs)\n",
    "\n",
    "\n"
   ]
  },
  {
   "cell_type": "markdown",
   "id": "0abdec01-6131-464e-8e69-901ba46676b1",
   "metadata": {},
   "source": [
    "With *Olm*, many types of calculations can be done with 'solution' objects. Here we will calculate the equilibrium concentration of Ca with respect to calcite."
   ]
  },
  {
   "cell_type": "code",
   "execution_count": 30,
   "id": "ec896b24-0030-4f10-a71e-fd7419673e3a",
   "metadata": {},
   "outputs": [],
   "source": [
    "from olm.calcite import concCaEqFromSolution\n",
    "\n",
    "#This estimates the equilibrium Ca concentration in mol/L\n",
    "Ca_eq = concCaEqFromSolution(solutions)\n"
   ]
  },
  {
   "cell_type": "markdown",
   "id": "01739bfa-1ab8-4925-87be-b0ed0cb9fe8d",
   "metadata": {},
   "source": [
    "One way to express saturation state is using the 'saturation ratio,' ${\\rm R=Ca/Ca_{eq}}$. The solution is saturated if $R=1$, undersaturated if $R<1$, and supersaturated if $R>1$."
   ]
  },
  {
   "cell_type": "code",
   "execution_count": 32,
   "id": "9f7a3fab-cdbf-400d-b0f7-c7a29dd41a11",
   "metadata": {},
   "outputs": [
    {
     "data": {
      "text/plain": [
       "0     0.965076\n",
       "1     0.959075\n",
       "2     0.720650\n",
       "3     0.834588\n",
       "4     0.771992\n",
       "        ...   \n",
       "83    1.288876\n",
       "84    0.798658\n",
       "85    0.798658\n",
       "86    0.720650\n",
       "87    0.720650\n",
       "Length: 88, dtype: float64"
      ]
     },
     "execution_count": 32,
     "metadata": {},
     "output_type": "execute_result"
    }
   ],
   "source": [
    "R = Ca_mol_L/Ca_eq\n",
    "R"
   ]
  },
  {
   "cell_type": "code",
   "execution_count": 34,
   "id": "16c99eca-f8f2-47a4-9eb9-e26ee188e565",
   "metadata": {},
   "outputs": [
    {
     "data": {
      "text/plain": [
       "Text(0, 0.5, 'Number per bin')"
      ]
     },
     "execution_count": 34,
     "metadata": {},
     "output_type": "execute_result"
    },
    {
     "data": {
      "image/png": "[encoded data removed]",
      "text/plain": [
       "<Figure size 640x480 with 1 Axes>"
      ]
     },
     "metadata": {},
     "output_type": "display_data"
    }
   ],
   "source": [
    "# One way to visualize this would be with a histogram, since we\n",
    "# have lots of values.\n",
    "\n",
    "plt.hist(R)\n",
    "plt.xlabel('Saturation ratio for Calcite')\n",
    "plt.ylabel('Number per bin')"
   ]
  },
  {
   "cell_type": "markdown",
   "id": "71e3bde1-93fe-4c25-a930-a3aaa9533671",
   "metadata": {},
   "source": [
    "Now make similar calculations using your field data and the method demonstrated above. What is the saturation state at your field sites? In addition to a histogram, you might consider making a boxplot of saturation ratio at different types of sites."
   ]
  },
  {
   "cell_type": "code",
   "execution_count": null,
   "id": "9b285622-d75b-4c0c-8375-b7334f498f61",
   "metadata": {},
   "outputs": [],
   "source": []
  },
  {
   "cell_type": "code",
   "execution_count": null,
   "id": "4998da40-9c99-4dac-bec9-1760e0626473",
   "metadata": {},
   "outputs": [],
   "source": []
  },
  {
   "cell_type": "code",
   "execution_count": null,
   "id": "dac17535-ea19-42c8-b5b8-4ae464c0bd6c",
   "metadata": {},
   "outputs": [],
   "source": []
  },
  {
   "cell_type": "code",
   "execution_count": null,
   "id": "d2ea1e47-b681-42dd-8878-7c423a909079",
   "metadata": {},
   "outputs": [],
   "source": []
  },
  {
   "cell_type": "markdown",
   "id": "a5ba7568-7c12-4f38-8e86-7d227521989a",
   "metadata": {},
   "source": [
    "We can make this adjustment using a function available in the *Olm* carbonate water chemistry package for Python. First we have to install it (if you haven't already done so). We can do this using the command below."
   ]
  },
  {
   "cell_type": "markdown",
   "id": "c848dbc0-72f2-46f1-9ae3-07fcdedf4411",
   "metadata": {},
   "source": [
    "One of the critical considerations in analyzing conductivity data, is correction to specific conductance at 25 degrees Celcius. Since temperature also influences raw conductivity, we need to account for this effect by adjusting all measurements to equivalent SpC @ 25 C."
   ]
  },
  {
   "cell_type": "code",
   "execution_count": 2,
   "id": "b6456355-7347-4fea-9e9e-c3549a43783e",
   "metadata": {},
   "outputs": [],
   "source": [
    "# The function we use for converting to SpC @ 25 C\n",
    "# is called condTo25. We import it like this.\n",
    "from olm.general import condTo25"
   ]
  },
  {
   "cell_type": "code",
   "execution_count": null,
   "id": "38aec095-e865-42d8-9655-e73e3c5e1d52",
   "metadata": {},
   "outputs": [],
   "source": []
  },
  {
   "cell_type": "code",
   "execution_count": null,
   "id": "0816306c-96cb-4f20-8613-aef1769d7626",
   "metadata": {},
   "outputs": [],
   "source": []
  },
  {
   "cell_type": "markdown",
   "id": "d335d45d-5a8d-4fcb-abf2-6e79da1fab19",
   "metadata": {},
   "source": [
    "## Long-term SpC records"
   ]
  },
  {
   "cell_type": "code",
   "execution_count": null,
   "id": "ce4f2e65-a35b-4159-8239-d1bc40b6f4e5",
   "metadata": {},
   "outputs": [],
   "source": [
    "# There are long-term SpC records from Langle\n",
    "# and Copperhead Springs in 'data/Langle.csv' and\n",
    "# 'data/Copperhead.csv' \n",
    "\n",
    "# Read in these data and plot up the time series of\n",
    "# SpC at Langle and Copperhead. You can use\n",
    "# these longer records to get a bigger context for the\n",
    "# SpC data you collected yesterday.\n",
    "\n"
   ]
  }
 ],
 "metadata": {
  "kernelspec": {
   "display_name": "Python 3 (ipykernel)",
   "language": "python",
   "name": "python3"
  },
  "language_info": {
   "codemirror_mode": {
    "name": "ipython",
    "version": 3
   },
   "file_extension": ".py",
   "mimetype": "text/x-python",
   "name": "python",
   "nbconvert_exporter": "python",
   "pygments_lexer": "ipython3",
   "version": "3.9.13"
  }
 },
 "nbformat": 4,
 "nbformat_minor": 5
}
