{
 "cells": [
  {
   "cell_type": "markdown",
   "id": "4f21f450-12c1-403b-b030-e9484c84fac6",
   "metadata": {},
   "source": [
    "## Specific conductance"
   ]
  },
  {
   "cell_type": "code",
   "execution_count": null,
   "id": "817cfc19-8646-41d8-8cbd-25edf66d9da8",
   "metadata": {},
   "outputs": [],
   "source": []
  },
  {
   "cell_type": "code",
   "execution_count": null,
   "id": "ac77167c-5d68-4cab-a30f-d40499af4059",
   "metadata": {},
   "outputs": [],
   "source": []
  }
 ],
 "metadata": {
  "kernelspec": {
   "display_name": "Python 3 (ipykernel)",
   "language": "python",
   "name": "python3"
  },
  "language_info": {
   "codemirror_mode": {
    "name": "ipython",
    "version": 3
   },
   "file_extension": ".py",
   "mimetype": "text/x-python",
   "name": "python",
   "nbconvert_exporter": "python",
   "pygments_lexer": "ipython3",
   "version": "3.9.13"
  }
 },
 "nbformat": 4,
 "nbformat_minor": 5
}
