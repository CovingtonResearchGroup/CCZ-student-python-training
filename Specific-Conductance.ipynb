{
 "cells": [
  {
   "cell_type": "markdown",
   "id": "4f21f450-12c1-403b-b030-e9484c84fac6",
   "metadata": {},
   "source": [
    "## Specific conductance, dissolved load, and calcite saturation state"
   ]
  },
  {
   "cell_type": "markdown",
   "id": "e354ab28-8cd1-4289-80ae-2b5298306fa5",
   "metadata": {},
   "source": [
    "Specific conductance (SpC) is an indicator of the dissolved load in the water. At our site, we expect most of that dissolved load to be from carbonate minerals. However, it could also indicate polution. In that case, other ions, such as Chloride (which we measured) could also be high."
   ]
  },
  {
   "cell_type": "markdown",
   "id": "9e132cf0-c937-4fa9-9379-5c89d83753b6",
   "metadata": {},
   "source": [
    "#### Questions\n",
    "\n",
    "- How does dissolved load change from one part of the system to another?\n",
    "- Is there any evidence that these differences are a function of polution, or could it just be differences in dissolved carbonate?\n",
    "- Is the water undersaturated, saturated, or supersaturated with respect to calcite?\n",
    "- Does evolution of SpC along the sinking stream show any evidence of precipitation or dissolution, or can the changes in SpC be explained purely by mixing of waters from the springs and stream?"
   ]
  },
  {
   "cell_type": "markdown",
   "id": "e85e6a7c-5579-4567-86bd-d6e8f6248597",
   "metadata": {},
   "source": [
    "#### Read in water quality data"
   ]
  },
  {
   "cell_type": "code",
   "execution_count": 3,
   "id": "cd2e9d0d-ee91-477c-9eee-08ef44829588",
   "metadata": {},
   "outputs": [],
   "source": [
    "# Read in the water quality data from the spreadsheet\n",
    "\n"
   ]
  },
  {
   "cell_type": "code",
   "execution_count": null,
   "id": "6425866a-93b5-4f9e-aa26-8b63d864db4b",
   "metadata": {},
   "outputs": [],
   "source": [
    "# Make a boxplot of SpC measurements categorized by type of site\n",
    "# (spring, epikarst, stream, well)\n",
    "\n"
   ]
  },
  {
   "cell_type": "markdown",
   "id": "475c8b0f-f612-4ac6-befd-747095d11a8a",
   "metadata": {},
   "source": [
    "### SpC and pollution"
   ]
  },
  {
   "cell_type": "code",
   "execution_count": null,
   "id": "9062ae40-3e56-447b-ae51-451785efe117",
   "metadata": {},
   "outputs": [],
   "source": [
    "# To examine whether there is any relationship between SpC and\n",
    "# pollution, make a scatter plot of SpC vs Chloride.\n",
    "\n"
   ]
  },
  {
   "cell_type": "markdown",
   "id": "a4a3570c-828d-4f3b-ae8d-e2562fe3a53e",
   "metadata": {},
   "source": [
    "### Calcite Saturation"
   ]
  },
  {
   "cell_type": "markdown",
   "id": "29270b1f-8cd3-4973-8ce1-6e0a62c3ace0",
   "metadata": {},
   "source": [
    "To examine calcite saturation, we will use functions from a Python package called *Olm*, which was written to conduct basic water chemistry analysis in karst settings. First we need to install this package (if you haven't already done so). We can install using the following command."
   ]
  },
  {
   "cell_type": "code",
   "execution_count": 1,
   "id": "ac77167c-5d68-4cab-a30f-d40499af4059",
   "metadata": {
    "collapsed": true,
    "jupyter": {
     "outputs_hidden": true
    },
    "tags": []
   },
   "outputs": [
    {
     "name": "stdout",
     "output_type": "stream",
     "text": [
      "Requirement already satisfied: olm-karst in /home/mcoving/anaconda3/lib/python3.9/site-packages/olm_karst-0.39-py3.9.egg (0.39)\n",
      "Requirement already satisfied: numpy in /home/mcoving/anaconda3/lib/python3.9/site-packages (from olm-karst) (1.21.5)\n",
      "Requirement already satisfied: scipy in /home/mcoving/anaconda3/lib/python3.9/site-packages (from olm-karst) (1.9.1)\n",
      "Requirement already satisfied: matplotlib in /home/mcoving/anaconda3/lib/python3.9/site-packages (from olm-karst) (3.5.2)\n",
      "Requirement already satisfied: pandas in /home/mcoving/anaconda3/lib/python3.9/site-packages (from olm-karst) (1.4.4)\n",
      "Requirement already satisfied: lxml in /home/mcoving/anaconda3/lib/python3.9/site-packages (from olm-karst) (4.9.1)\n",
      "Requirement already satisfied: xlrd in /home/mcoving/anaconda3/lib/python3.9/site-packages (from olm-karst) (2.0.1)\n",
      "Collecting xlwt\n",
      "  Downloading xlwt-1.3.0-py2.py3-none-any.whl (99 kB)\n",
      "\u001b[2K     \u001b[38;2;114;156;31m━━━━━━━━━━━━━━━━━━━━━━━━━━━━━━━━━━━━━\u001b[0m \u001b[32m100.0/100.0 kB\u001b[0m \u001b[31m701.6 kB/s\u001b[0m eta \u001b[36m0:00:00\u001b[0m kB/s\u001b[0m eta \u001b[36m0:00:01\u001b[0m:01\u001b[0m\n",
      "\u001b[?25hRequirement already satisfied: openpyxl in /home/mcoving/anaconda3/lib/python3.9/site-packages (from olm-karst) (3.0.10)\n",
      "Requirement already satisfied: requests in /home/mcoving/anaconda3/lib/python3.9/site-packages (from olm-karst) (2.28.1)\n",
      "Requirement already satisfied: pyparsing>=2.2.1 in /home/mcoving/anaconda3/lib/python3.9/site-packages (from matplotlib->olm-karst) (3.0.9)\n",
      "Requirement already satisfied: pillow>=6.2.0 in /home/mcoving/anaconda3/lib/python3.9/site-packages (from matplotlib->olm-karst) (9.2.0)\n",
      "Requirement already satisfied: python-dateutil>=2.7 in /home/mcoving/anaconda3/lib/python3.9/site-packages (from matplotlib->olm-karst) (2.8.2)\n",
      "Requirement already satisfied: fonttools>=4.22.0 in /home/mcoving/anaconda3/lib/python3.9/site-packages (from matplotlib->olm-karst) (4.25.0)\n",
      "Requirement already satisfied: packaging>=20.0 in /home/mcoving/anaconda3/lib/python3.9/site-packages (from matplotlib->olm-karst) (21.3)\n",
      "Requirement already satisfied: cycler>=0.10 in /home/mcoving/anaconda3/lib/python3.9/site-packages (from matplotlib->olm-karst) (0.11.0)\n",
      "Requirement already satisfied: kiwisolver>=1.0.1 in /home/mcoving/anaconda3/lib/python3.9/site-packages (from matplotlib->olm-karst) (1.4.2)\n",
      "Requirement already satisfied: et_xmlfile in /home/mcoving/anaconda3/lib/python3.9/site-packages (from openpyxl->olm-karst) (1.1.0)\n",
      "Requirement already satisfied: pytz>=2020.1 in /home/mcoving/anaconda3/lib/python3.9/site-packages (from pandas->olm-karst) (2022.1)\n",
      "Requirement already satisfied: idna<4,>=2.5 in /home/mcoving/anaconda3/lib/python3.9/site-packages (from requests->olm-karst) (3.3)\n",
      "Requirement already satisfied: certifi>=2017.4.17 in /home/mcoving/anaconda3/lib/python3.9/site-packages (from requests->olm-karst) (2022.9.14)\n",
      "Requirement already satisfied: urllib3<1.27,>=1.21.1 in /home/mcoving/anaconda3/lib/python3.9/site-packages (from requests->olm-karst) (1.26.11)\n",
      "Requirement already satisfied: charset-normalizer<3,>=2 in /home/mcoving/anaconda3/lib/python3.9/site-packages (from requests->olm-karst) (2.0.4)\n",
      "Requirement already satisfied: six>=1.5 in /home/mcoving/anaconda3/lib/python3.9/site-packages (from python-dateutil>=2.7->matplotlib->olm-karst) (1.16.0)\n",
      "Installing collected packages: xlwt\n",
      "Successfully installed xlwt-1.3.0\n"
     ]
    }
   ],
   "source": [
    "!pip install olm-karst"
   ]
  },
  {
   "cell_type": "markdown",
   "id": "3f7c710c-053b-4ba1-a124-54da34b9857f",
   "metadata": {},
   "source": [
    "To see more about what *Olm* can do, check out the Github repository here:\n",
    "\n",
    "https://github.com/CovingtonResearchGroup/olm/tree/master\n",
    "\n",
    "Or the example tutorials here:\n",
    "\n",
    "https://github.com/CovingtonResearchGroup/olm-examples"
   ]
  },
  {
   "cell_type": "markdown",
   "id": "d9517d90-7344-4d6f-b4c1-4eb280c7dc43",
   "metadata": {},
   "source": [
    "We will use *Olm* here to estimate the saturation state of the water with respect to calcite (the main component of limestone). These calcualtions assume that the chemistry is dominated by ions in the $H_2O - CO_2 - CaCO_3$ system. If we have a substantial component from other ions (for example from pollution), then these calculations will be inaccurate."
   ]
  },
  {
   "cell_type": "markdown",
   "id": "318ecbbe-558c-48ec-a125-0cc84f8ca7cc",
   "metadata": {},
   "source": [
    "The first step is to estimate the dissolved Calcium concentration from our SpC values. This could be done using a global relationship which is provided in olm.general.CaFromCond(). However, we can do better, since we have a set of Ca concentrations and SpC measurements from Savoy."
   ]
  },
  {
   "cell_type": "code",
   "execution_count": null,
   "id": "f3b3a09e-7e69-49de-a819-11346dee1ad2",
   "metadata": {},
   "outputs": [],
   "source": []
  },
  {
   "cell_type": "markdown",
   "id": "a5ba7568-7c12-4f38-8e86-7d227521989a",
   "metadata": {},
   "source": [
    "We can make this adjustment using a function available in the *Olm* carbonate water chemistry package for Python. First we have to install it (if you haven't already done so). We can do this using the command below."
   ]
  },
  {
   "cell_type": "markdown",
   "id": "c848dbc0-72f2-46f1-9ae3-07fcdedf4411",
   "metadata": {},
   "source": [
    "One of the critical considerations in analyzing conductivity data, is correction to specific conductance at 25 degrees Celcius. Since temperature also influences raw conductivity, we need to account for this effect by adjusting all measurements to equivalent SpC @ 25 C."
   ]
  },
  {
   "cell_type": "code",
   "execution_count": 2,
   "id": "b6456355-7347-4fea-9e9e-c3549a43783e",
   "metadata": {},
   "outputs": [],
   "source": [
    "# The function we use for converting to SpC @ 25 C\n",
    "# is called condTo25. We import it like this.\n",
    "from olm.general import condTo25"
   ]
  },
  {
   "cell_type": "code",
   "execution_count": null,
   "id": "38aec095-e865-42d8-9655-e73e3c5e1d52",
   "metadata": {},
   "outputs": [],
   "source": []
  },
  {
   "cell_type": "code",
   "execution_count": null,
   "id": "0816306c-96cb-4f20-8613-aef1769d7626",
   "metadata": {},
   "outputs": [],
   "source": []
  },
  {
   "cell_type": "markdown",
   "id": "d335d45d-5a8d-4fcb-abf2-6e79da1fab19",
   "metadata": {},
   "source": [
    "## Long-term SpC records"
   ]
  },
  {
   "cell_type": "code",
   "execution_count": null,
   "id": "ce4f2e65-a35b-4159-8239-d1bc40b6f4e5",
   "metadata": {},
   "outputs": [],
   "source": [
    "# There are long-term SpC records from Langle\n",
    "# and Copperhead Springs in 'data/Langle.csv' and\n",
    "# 'data/Copperhead.csv' \n",
    "\n",
    "# Read in these data and plot up the time series of\n",
    "# SpC at Langle and Copperhead. You can use\n",
    "# these longer records to get a bigger context for the\n",
    "# SpC data you collected yesterday.\n",
    "\n"
   ]
  }
 ],
 "metadata": {
  "kernelspec": {
   "display_name": "Python 3 (ipykernel)",
   "language": "python",
   "name": "python3"
  },
  "language_info": {
   "codemirror_mode": {
    "name": "ipython",
    "version": 3
   },
   "file_extension": ".py",
   "mimetype": "text/x-python",
   "name": "python",
   "nbconvert_exporter": "python",
   "pygments_lexer": "ipython3",
   "version": "3.9.13"
  }
 },
 "nbformat": 4,
 "nbformat_minor": 5
}
